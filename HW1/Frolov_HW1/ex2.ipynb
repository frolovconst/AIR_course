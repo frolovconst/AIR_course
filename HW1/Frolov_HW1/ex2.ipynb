{
 "cells": [
  {
   "cell_type": "code",
   "execution_count": 1,
   "metadata": {
    "collapsed": false
   },
   "outputs": [],
   "source": [
    "## Import lib for extracting training set from pdfs\n",
    "import extract\n",
    "import importlib\n",
    "importlib.reload(extract)\n",
    "import numpy as np\n",
    "from sklearn.metrics import classification_report, confusion_matrix"
   ]
  },
  {
   "cell_type": "code",
   "execution_count": 2,
   "metadata": {
    "collapsed": false
   },
   "outputs": [],
   "source": [
    "#  Extract training set\n",
    "train_indicies = extract.extract_words()"
   ]
  },
  {
   "cell_type": "code",
   "execution_count": 3,
   "metadata": {
    "collapsed": true
   },
   "outputs": [],
   "source": [
    "# Read training files as one string\n",
    "smr_content = open('sum_train.txt', 'r').read()\n",
    "xprnc_content = open('exp_train.txt', 'r').read()\n",
    "edct_content = open('edu_train.txt', 'r').read()"
   ]
  },
  {
   "cell_type": "code",
   "execution_count": 4,
   "metadata": {
    "collapsed": false
   },
   "outputs": [],
   "source": [
    "def string_list(s_term, s_str):\n",
    "    result = []\n",
    "    crnt_ptr = s_str.find(s_term) + len(s_term)\n",
    "    scd_term_index=s_str.find(s_term, crnt_ptr)\n",
    "    while (scd_term_index>=0):\n",
    "        # count only significantly long segments (>9 characters)\n",
    "        if (scd_term_index-crnt_ptr>9):\n",
    "            result.append(s_term + ' ' + s_str[crnt_ptr:scd_term_index])\n",
    "        crnt_ptr = scd_term_index + len(s_term)\n",
    "        scd_term_index=s_str.find(s_term, crnt_ptr)\n",
    "    return result"
   ]
  },
  {
   "cell_type": "code",
   "execution_count": 5,
   "metadata": {
    "collapsed": false
   },
   "outputs": [],
   "source": [
    "# Put segment from each CV into separate string in an array\n",
    "sum_list = string_list(\"Summary\", smr_content)\n",
    "xprnc_list = string_list(\"Experience\", xprnc_content)\n",
    "edctn_list = string_list(\"Education\", edct_content)"
   ]
  },
  {
   "cell_type": "markdown",
   "metadata": {},
   "source": [
    "##\n",
    "(jan(uary|\\.|)|feb(ruary|\\.|)|mar(ch|\\.|)|apr(il|\\.|)|may(\\.|)|jun(e|\\.|)|jul(y|\\.|)|aug(ust|\\.|)|sep(tember|\\.|)|oct(ober|\\.|)|nov(ember|\\.|)|dec(ember|\\.|))\\s+\\d\\d*"
   ]
  },
  {
   "cell_type": "code",
   "execution_count": 6,
   "metadata": {
    "collapsed": false
   },
   "outputs": [],
   "source": [
    "# Function for extracting vocabulary specific for a segment\n",
    "import re\n",
    "from nltk.stem.snowball import SnowballStemmer\n",
    "def create_dictionary(topic_list):\n",
    "    month_expr = re.compile(r\"(jan(uary|\\.|)|feb(ruary|\\.|)|mar(ch|\\.|)|apr(il|\\.|)|may(\\.|)|jun(e|\\.|)|jul(y|\\.|)|aug(ust|\\.|)|sep(tember|\\.|)|oct(ober|\\.|)|nov(ember|\\.|)|dec(ember|\\.|))\")\n",
    "    year_expr = re.compile(r\"((19|20)\\d\\d|'?\\d\\d)\")\n",
    "    result = dict()\n",
    "    stemmer = SnowballStemmer('english')\n",
    "    for string in topic_list:\n",
    "        a = re.split('[^0-9A-Za-z]', string)\n",
    "        a=list(filter(lambda x: x!='', a))\n",
    "        for i in range(len(a)):\n",
    "            a[i] = a[i].casefold()\n",
    "            if re.fullmatch(year_expr, a[i]):\n",
    "                a[i] = '!year'\n",
    "            elif re.fullmatch(month_expr, a[i]):\n",
    "                a[i] = '!month'\n",
    "            else:\n",
    "                a[i] = stemmer.stem(a[i])\n",
    "            if (a[i] in result):\n",
    "                result[a[i]] += 1\n",
    "            else:\n",
    "                result[a[i]] = 1\n",
    "                \n",
    "    return result\n"
   ]
  },
  {
   "cell_type": "code",
   "execution_count": 7,
   "metadata": {
    "collapsed": false
   },
   "outputs": [],
   "source": [
    "# Extract vocabulary specific for a segment\n",
    "sum_dct = create_dictionary(sum_list)\n",
    "xprnc_dct = create_dictionary(xprnc_list)\n",
    "edctn_dct = create_dictionary(edctn_list)"
   ]
  },
  {
   "cell_type": "code",
   "execution_count": 8,
   "metadata": {
    "collapsed": false
   },
   "outputs": [],
   "source": [
    "# Functions for calculating term frequencies and corpus dictionary creation\n",
    "def concat_dct(d1, d2):\n",
    "    d3 = dict(d1)\n",
    "    for key in d2.keys():\n",
    "        if (key in d3):\n",
    "            d3[key] += d2[key]\n",
    "        else:\n",
    "            d3[key] = d2[key]\n",
    "    return d3\n",
    "\n",
    "def sumDictValues(dctnr):\n",
    "    N = 0\n",
    "    for val in dctnr.values():\n",
    "        N = + N + val\n",
    "    return N\n",
    "\n",
    "def calc_probs(dctnr):\n",
    "    prob_dctnr = dict()\n",
    "    tot_size = sumDictValues(dctnr)\n",
    "    for key in dctnr.keys():\n",
    "        prob_dctnr[key] = dctnr[key]/tot_size\n",
    "    return prob_dctnr"
   ]
  },
  {
   "cell_type": "code",
   "execution_count": 9,
   "metadata": {
    "collapsed": false
   },
   "outputs": [],
   "source": [
    "# Uniting into corpus dictionary\n",
    "new_dict = concat_dct(xprnc_dct, edctn_dct)\n",
    "whole_dict = concat_dct(new_dict, sum_dct)"
   ]
  },
  {
   "cell_type": "code",
   "execution_count": 10,
   "metadata": {
    "collapsed": false
   },
   "outputs": [],
   "source": [
    "# Calculating probabilities\n",
    "sum_prb = calc_probs(sum_dct)\n",
    "xprnc_prb = calc_probs(xprnc_dct)\n",
    "edctn_prb = calc_probs(edctn_dct)\n",
    "whole_dict_prb = calc_probs(whole_dict)"
   ]
  },
  {
   "cell_type": "code",
   "execution_count": 11,
   "metadata": {
    "collapsed": true
   },
   "outputs": [],
   "source": [
    "# Test data generation\n",
    "smr_test_content = open('sum_test.txt', 'r').read()\n",
    "exp_test_content = open('exp_test.txt', 'r').read()\n",
    "edu_test_content = open('edu_test.txt', 'r').read()"
   ]
  },
  {
   "cell_type": "code",
   "execution_count": 12,
   "metadata": {
    "collapsed": true
   },
   "outputs": [],
   "source": [
    "def replace_with_space(matchobj):\n",
    "    return \" \"\n",
    "\n",
    "def construct_marked_set(new_content):\n",
    "    CRIT_LENGTH_LIMIT = 100\n",
    "    result = np.zeros(4).reshape(1,4)\n",
    "#    rep_pattern = re.compile(r\"((Summary|Experience|Education)|[^A-Za-z0-9\\s])\")\n",
    "    rep_pattern = re.compile(r\"([^A-Za-z0-9\\s])\")\n",
    "    category = 1\n",
    "    for string in new_content:\n",
    "        a = re.sub(rep_pattern, replace_with_space, string)\n",
    "        cumulative_str = ''\n",
    "        for substr in a.split('\\n'):\n",
    "            cumulative_str += substr + ' '\n",
    "            if(len(cumulative_str) > CRIT_LENGTH_LIMIT):\n",
    "                result = np.append(result, np.asarray([cumulative_str, category, 0, -3000.0]).reshape(1,4), axis=0)\n",
    "                cumulative_str = ''\n",
    "        if(len(cumulative_str) > 2):\n",
    "                result = np.append(result, np.asarray([cumulative_str, category, 0, -3000.0]).reshape(1,4), axis=0)\n",
    "        category += 1\n",
    "    return result[1:]"
   ]
  },
  {
   "cell_type": "code",
   "execution_count": 13,
   "metadata": {
    "collapsed": false
   },
   "outputs": [],
   "source": [
    "test_set = construct_marked_set([smr_test_content, edu_test_content, exp_test_content])"
   ]
  },
  {
   "cell_type": "code",
   "execution_count": 14,
   "metadata": {
    "collapsed": false
   },
   "outputs": [],
   "source": [
    "import math as m\n",
    "from nltk.stem.snowball import SnowballStemmer\n",
    "def calculate_likelihood(string, dct, corp_dct, prb_segment):\n",
    "    stemmer = SnowballStemmer('english')\n",
    "    month_expr = re.compile(r\"(jan(uary|\\.|)|feb(ruary|\\.|)|mar(ch|\\.|)|apr(il|\\.|)|may(\\.|)|jun(e|\\.|)|jul(y|\\.|)|aug(ust|\\.|)|sep(tember|\\.|)|oct(ober|\\.|)|nov(ember|\\.|)|dec(ember|\\.|))\")\n",
    "    year_expr = re.compile(r\"((19|20)\\d\\d|'?\\d\\d)\")\n",
    "    num = 1.0\n",
    "    den = 1.0\n",
    "    result = .0\n",
    "    for word in string.split():\n",
    "        wrd = word.casefold()\n",
    "        if re.fullmatch(year_expr, wrd):\n",
    "            wrd = '!year'\n",
    "        elif re.fullmatch(month_expr, wrd):\n",
    "            wrd = '!month'\n",
    "        else:\n",
    "             wrd = stemmer.stem(wrd)\n",
    "        #print(wrd)\n",
    "        if wrd in dct:\n",
    "            num *= dct[wrd]\n",
    "            den *= corp_dct[wrd]\n",
    "            result += m.log2(prb_segment*num/den)\n",
    "    #print(num)\n",
    "    #print(den)\n",
    "    return result\n",
    "    \n",
    "def test_algorithm(test_set, dictionaries, corpus_dict):\n",
    "    #likelihoods = np.zeros(len(dictionaries))\n",
    "    prb_corpus = calc_probs(corpus_dict)\n",
    "    i=0\n",
    "    for a_dict in dictionaries:\n",
    "            prb_segment = sumDictValues(a_dict) / sumDictValues(corpus_dict)\n",
    "            print('Segment ' + repr(i+1) + ' portion in the dictionary ' + repr(prb_segment))\n",
    "            prb_dict = calc_probs(a_dict)\n",
    "            for line in test_set:\n",
    "#                print('new_like')\n",
    "#                print(line[0] + \"ttteeest\")\n",
    "                likelihood = calculate_likelihood(line[0], prb_dict, prb_corpus, prb_segment)\n",
    "                if likelihood > np.float(line[3]):\n",
    "                    line[3] = likelihood\n",
    "                    line[2] = i+1\n",
    "            i+=1"
   ]
  },
  {
   "cell_type": "code",
   "execution_count": 15,
   "metadata": {
    "collapsed": false
   },
   "outputs": [
    {
     "name": "stdout",
     "output_type": "stream",
     "text": [
      "Segment 1 portion in the dictionary 0.16698797913359037\n",
      "Segment 2 portion in the dictionary 0.14776593331821275\n",
      "Segment 3 portion in the dictionary 0.6852460875481968\n"
     ]
    }
   ],
   "source": [
    "test_algorithm(test_set, [sum_dct, edctn_dct, xprnc_dct], whole_dict)"
   ]
  },
  {
   "cell_type": "code",
   "execution_count": 16,
   "metadata": {
    "collapsed": false
   },
   "outputs": [],
   "source": [
    "# precision, recall, F1-score\n",
    "def quality_assessment(a, b, ctgr):\n",
    "    b_correct = ((a.astype(int) == b.astype(int)) * a.astype(int)==ctgr).sum()\n",
    "    b_attempts = ((b.astype(int) == ctgr)).sum()\n",
    "    a_total = ((a.astype(int) == ctgr)).sum()\n",
    "    prec = b_correct/b_attempts\n",
    "    rcll = b_correct/a_total\n",
    "    f_one = 2*prec*rcll/(prec+rcll)\n",
    "    print ('precision = %f' %prec)\n",
    "    print ('recall =', rcll)\n",
    "    print ('F1-score =', f_one)\n",
    "    return prec, rcll, f_one"
   ]
  },
  {
   "cell_type": "code",
   "execution_count": 17,
   "metadata": {
    "collapsed": false
   },
   "outputs": [
    {
     "name": "stdout",
     "output_type": "stream",
     "text": [
      "precision = 0.446809\n",
      "recall = 0.477272727273\n",
      "F1-score = 0.461538461538\n"
     ]
    },
    {
     "data": {
      "text/plain": [
       "(0.44680851063829785, 0.47727272727272729, 0.46153846153846156)"
      ]
     },
     "execution_count": 17,
     "metadata": {},
     "output_type": "execute_result"
    }
   ],
   "source": [
    "# summary identification assessment\n",
    "quality_assessment(test_set[:,1], test_set[:,2], 1)"
   ]
  },
  {
   "cell_type": "code",
   "execution_count": 18,
   "metadata": {
    "collapsed": false
   },
   "outputs": [
    {
     "name": "stdout",
     "output_type": "stream",
     "text": [
      "precision = 0.775510\n",
      "recall = 1.0\n",
      "F1-score = 0.873563218391\n"
     ]
    },
    {
     "data": {
      "text/plain": [
       "(0.77551020408163263, 1.0, 0.87356321839080453)"
      ]
     },
     "execution_count": 18,
     "metadata": {},
     "output_type": "execute_result"
    }
   ],
   "source": [
    "# education identification assessment\n",
    "quality_assessment(test_set[:,1], test_set[:,2], 2)"
   ]
  },
  {
   "cell_type": "code",
   "execution_count": 19,
   "metadata": {
    "collapsed": false
   },
   "outputs": [
    {
     "name": "stdout",
     "output_type": "stream",
     "text": [
      "precision = 0.876543\n",
      "recall = 0.806818181818\n",
      "F1-score = 0.840236686391\n"
     ]
    },
    {
     "data": {
      "text/plain": [
       "(0.87654320987654322, 0.80681818181818177, 0.84023668639053251)"
      ]
     },
     "execution_count": 19,
     "metadata": {},
     "output_type": "execute_result"
    }
   ],
   "source": [
    "# experience identification assessment\n",
    "quality_assessment(test_set[:,1], test_set[:,2], 3)"
   ]
  },
  {
   "cell_type": "code",
   "execution_count": 20,
   "metadata": {
    "collapsed": false
   },
   "outputs": [
    {
     "name": "stdout",
     "output_type": "stream",
     "text": [
      "[[ 21   3  20]\n",
      " [  0  38   0]\n",
      " [ 26   8 142]]\n"
     ]
    }
   ],
   "source": [
    "print(confusion_matrix(test_set[:,1], test_set[:,2]))"
   ]
  },
  {
   "cell_type": "code",
   "execution_count": 21,
   "metadata": {
    "collapsed": false
   },
   "outputs": [
    {
     "name": "stderr",
     "output_type": "stream",
     "text": [
      "PdfReadWarning: Xref table not zero-indexed. ID numbers for objects will be corrected. [pdf.py:1736]\n"
     ]
    }
   ],
   "source": [
    "# Extract test set from 'other' folder\n",
    "file_number_in_folder=6\n",
    "extract.extract_other_pdfs(file_number_in_folder)"
   ]
  },
  {
   "cell_type": "code",
   "execution_count": 22,
   "metadata": {
    "collapsed": true
   },
   "outputs": [],
   "source": [
    "# Test data generation\n",
    "other_test_content = open('test_other.txt', 'r').read()"
   ]
  },
  {
   "cell_type": "code",
   "execution_count": 23,
   "metadata": {
    "collapsed": false
   },
   "outputs": [
    {
     "data": {
      "text/plain": [
       "'Stefan Petranek  78 Vermont Street Rochester, NY 14609     spetrane@yahoo\\n.com     (585) 256 0296   '"
      ]
     },
     "execution_count": 23,
     "metadata": {},
     "output_type": "execute_result"
    }
   ],
   "source": [
    "# Head of selected CV\n",
    "other_test_content[:100]"
   ]
  },
  {
   "cell_type": "code",
   "execution_count": 24,
   "metadata": {
    "collapsed": true
   },
   "outputs": [],
   "source": [
    "test_set_other = construct_marked_set([other_test_content])"
   ]
  },
  {
   "cell_type": "code",
   "execution_count": 25,
   "metadata": {
    "collapsed": false
   },
   "outputs": [
    {
     "name": "stdout",
     "output_type": "stream",
     "text": [
      "Segment 1 portion in the dictionary 0.16698797913359037\n",
      "Segment 2 portion in the dictionary 0.14776593331821275\n",
      "Segment 3 portion in the dictionary 0.6852460875481968\n"
     ]
    }
   ],
   "source": [
    "test_algorithm(test_set_other, [sum_dct, edctn_dct, xprnc_dct], whole_dict)"
   ]
  },
  {
   "cell_type": "code",
   "execution_count": 26,
   "metadata": {
    "collapsed": false
   },
   "outputs": [],
   "source": [
    "def print_recognition_results(test_set):\n",
    "    category=''\n",
    "    for line in test_set:\n",
    "        if line[2] == '1':\n",
    "            category = 'Summary'\n",
    "        elif line[2] == '2':\n",
    "            category = 'Education'\n",
    "        else:\n",
    "            category = 'Experience'\n",
    "        print(line[0][:50] + '...\\t\\t' + category)"
   ]
  },
  {
   "cell_type": "code",
   "execution_count": 27,
   "metadata": {
    "collapsed": false
   },
   "outputs": [
    {
     "name": "stdout",
     "output_type": "stream",
     "text": [
      "Stefan Petranek  78 Vermont Street Rochester  NY 1...\t\tExperience\n",
      "  EDUCATION   Rochester Institute of Technology   ...\t\tEducation\n",
      "Areas of interest   photography  video  and instal...\t\tSummary\n",
      "  Bowdoin College   Brunswick  ME  A B  Biology  m...\t\tEducation\n",
      " with  Honors  in Biology  Phi Beta Kappa Society ...\t\tEducation\n",
      "Study abroad coursework at Universidad Austral de ...\t\tEducation\n",
      " Tweaking the Periodic Table  Reflections on Scien...\t\tEducation\n",
      "  Artist Talk    Panel discussion for  Naturally  ...\t\tExperience\n",
      "  Draft Magazine   Page 26  Issue 3  Independent S...\t\tEducation\n",
      "  Contributing photographer  Published by  Rochest...\t\tEducation\n",
      "  SPE Mid Atlantic Regional Conference  George Mad...\t\tEducation\n",
      "  Graduate Student Scholarship   Society of Photog...\t\tEducation\n",
      "  North American Nature Photography Association In...\t\tEducation\n",
      "  Bowdoin College  2004   SELECTED EXHIBITIONS    ...\t\tEducation\n",
      "  Video work  Spring  selected by curator Brenda L...\t\tSummary\n",
      "  RIT Faculty Show   Video Projection  Rochester S...\t\tEducation\n",
      "  Slide Slam  08   Juried one night exhibition sch...\t\tExperience\n",
      "  2007    Naturally   Juried  Four person exhibit ...\t\tExperience\n",
      "Gallery  University of Rochester  Rochester  NY   ...\t\tExperience\n",
      "Community Darkroom  Genesee Center for the Arts  R...\t\tExperience\n",
      " com      585  256 0296     www stefanpetranek com...\t\tEducation\n",
      " Master of Fine Arts in Imaging Arts  2006   Areas...\t\tEducation\n",
      " Fulbright Full Grant   Valdivia  Chile   Marine e...\t\tExperience\n",
      "  Bowdoin College   Brunswick  ME  A B  Biology  m...\t\tEducation\n",
      " with  Honors  in Biology  Phi Beta Kappa Society ...\t\tEducation\n",
      "Study abroad coursework at Universidad Austral de ...\t\tEducation\n",
      " Tweaking the Periodic Table  Reflections on Scien...\t\tEducation\n",
      "  Artist Talk    Panel discussion for  Naturally  ...\t\tExperience\n",
      "  Draft Magazine   Page 26  Issue 3  Independent S...\t\tEducation\n",
      "  Contributing photographer  Published by  Rochest...\t\tEducation\n",
      "  SPE Mid Atlantic Regional Conference  George Mad...\t\tEducation\n",
      "  Graduate Student Scholarship   Society of Photog...\t\tEducation\n",
      "  North American Nature Photography Association In...\t\tEducation\n",
      "  Bowdoin College  2004   SELECTED EXHIBITIONS    ...\t\tEducation\n",
      "  Video work  Spring  selected by curator Brenda L...\t\tSummary\n",
      "  RIT Faculty Show   Video Projection  Rochester S...\t\tEducation\n",
      "  Slide Slam  08   Juried one night exhibition sch...\t\tExperience\n",
      "  2007    Naturally   Juried  Four person exhibit ...\t\tExperience\n",
      "Gallery  University of Rochester  Rochester  NY   ...\t\tExperience\n",
      "Community Darkroom  Genesee Center for the Arts  R...\t\tExperience\n",
      "Page 2 of 2     Toronto Urban Film Festival   Vide...\t\tEducation\n",
      "locations including TV monitors in the mass transi...\t\tExperience\n",
      "     PingYao International Photo Festival    Book ...\t\tExperience\n",
      "   RIT Faculty Show   A selection of two handmade ...\t\tSummary\n",
      "  CONTACT Portfolio Reviews Exhibition   A selecti...\t\tSummary\n",
      "  2006         Formulations   Master of Fine Arts ...\t\tEducation\n",
      "Technology  Rochester  NY     RIT Student Honors S...\t\tEducation\n",
      "Arts and Sciences  Artwork purchased by Rochester ...\t\tEducation\n",
      "   Door7 Spring Exhibition   Invitational group sh...\t\tExperience\n",
      "Rochester  NY     Trans fix   Invitational show of...\t\tSummary\n",
      "Baldwin Wallace College  Berea  Ohio      2005  Gr...\t\tEducation\n",
      "Program  SPAS Gallery  Rochester Institute of Tech...\t\tEducation\n",
      "  Community Darkroom Gallery  Genesee Center for t...\t\tExperience\n",
      "  Juried by Darsie  Alexander  curator of prints  ...\t\tExperience\n",
      "Loveladies  NJ      RIT Student Honors Show   Show...\t\tEducation\n",
      "Sciences  SPAS Gallery  Rochester Institute of Tec...\t\tEducation\n",
      "  An invitational art exhibit showcasing recent wo...\t\tSummary\n",
      "Technology  Rochester  NY      Breaking The Ice   ...\t\tSummary\n",
      "photography   video     Hartell Gallery  Cornell U...\t\tExperience\n",
      " Spark Contemporary Art Space  Syracuse  NY   Mar ...\t\tExperience\n",
      "Exhibiting Artist  Art Space Gallery  New Haven  C...\t\tExperience\n",
      "Haven  New Haven  CT      The Edge  a Fringe Festi...\t\tExperience\n",
      "Art and Ideas  Small Space Gallery  New Haven  CT ...\t\tEducation\n",
      "   2003  Photos on the Edge   A juried exhibition ...\t\tExperience\n",
      "Gallery  Yale School of Art  New Haven  CT     200...\t\tEducation\n",
      "    ...\t\tSummary\n"
     ]
    }
   ],
   "source": [
    "print_recognition_results(test_set_other)"
   ]
  },
  {
   "cell_type": "code",
   "execution_count": null,
   "metadata": {
    "collapsed": true
   },
   "outputs": [],
   "source": []
  }
 ],
 "metadata": {
  "kernelspec": {
   "display_name": "Python 3",
   "language": "python",
   "name": "python3"
  },
  "language_info": {
   "codemirror_mode": {
    "name": "ipython",
    "version": 3
   },
   "file_extension": ".py",
   "mimetype": "text/x-python",
   "name": "python",
   "nbconvert_exporter": "python",
   "pygments_lexer": "ipython3",
   "version": "3.6.0"
  }
 },
 "nbformat": 4,
 "nbformat_minor": 2
}
