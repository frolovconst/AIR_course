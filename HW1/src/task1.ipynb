{
 "cells": [
  {
   "cell_type": "code",
   "execution_count": 12,
   "metadata": {
    "collapsed": false
   },
   "outputs": [
    {
     "name": "stdout",
     "output_type": "stream",
     "text": [
      "Once deleted, variables cannot be recovered. Proceed (y/[n])? y\n"
     ]
    }
   ],
   "source": [
    "%reset"
   ]
  },
  {
   "cell_type": "code",
   "execution_count": 1,
   "metadata": {
    "collapsed": true
   },
   "outputs": [],
   "source": [
    "import PyPDF2\n",
    "from os import path, listdir, getcwd"
   ]
  },
  {
   "cell_type": "code",
   "execution_count": 2,
   "metadata": {
    "collapsed": true
   },
   "outputs": [],
   "source": [
    "from q1_create_n_gram import create_n_gram, get_document_words"
   ]
  },
  {
   "cell_type": "code",
   "execution_count": 3,
   "metadata": {
    "collapsed": false
   },
   "outputs": [],
   "source": [
    "from q2_entropy import entropy"
   ]
  },
  {
   "cell_type": "code",
   "execution_count": 4,
   "metadata": {
    "collapsed": true
   },
   "outputs": [],
   "source": [
    "from q3_conditional_entropy import conditional_entropy"
   ]
  },
  {
   "cell_type": "code",
   "execution_count": 12,
   "metadata": {
    "collapsed": false
   },
   "outputs": [],
   "source": [
    "from q4_joint_entropy import joint_entropy"
   ]
  },
  {
   "cell_type": "code",
   "execution_count": 14,
   "metadata": {
    "collapsed": true
   },
   "outputs": [],
   "source": [
    "from q5_mutual_information import mutual_information"
   ]
  },
  {
   "cell_type": "code",
   "execution_count": 16,
   "metadata": {
    "collapsed": true
   },
   "outputs": [],
   "source": [
    "from q6_min_max_entropy import compute_min_max_entropy"
   ]
  },
  {
   "cell_type": "code",
   "execution_count": 5,
   "metadata": {
    "collapsed": false
   },
   "outputs": [],
   "source": [
    "'''\n",
    "This script is used to load all the PDF documents, calculate the frequencies of\n",
    "1-gram and 2-grams, calculate the valuse of entropy, conditional entropy,\n",
    "mutial information, etc.\n",
    "'''\n",
    "\n",
    "#dataset_directory = path.dirname(path.abspath(__file__))+\"/data/LinkedIn/\"\n",
    "dataset_directory = \"data/LinkedIn/\"\n",
    "\n",
    "files = listdir(dataset_directory)\n",
    "\n",
    "\n",
    "def read_pdfs(path):\n",
    "    files_content = []\n",
    "    for the_file in files:\n",
    "        if the_file[-3:]!='pdf':\n",
    "            continue\n",
    "        pdfFileObj = open(path+the_file, 'rb')\n",
    "        pdfReader = PyPDF2.PdfFileReader(pdfFileObj)\n",
    "        file_content = \"\"\n",
    "        for page_ind,page in enumerate(range(pdfReader.numPages)):\n",
    "            pageObj = pdfReader.getPage(page_ind)\n",
    "            page_content = pageObj.extractText()\n",
    "            file_content += page_content\n",
    "        files_content.append(file_content)\n",
    "        pdfFileObj.close()\n",
    "    return files_content"
   ]
  },
  {
   "cell_type": "code",
   "execution_count": 6,
   "metadata": {
    "collapsed": false
   },
   "outputs": [],
   "source": [
    "files_content = read_pdfs(dataset_directory)"
   ]
  },
  {
   "cell_type": "code",
   "execution_count": 7,
   "metadata": {
    "collapsed": false
   },
   "outputs": [
    {
     "name": "stdout",
     "output_type": "stream",
     "text": [
      "Vocabulary size: 4007\n"
     ]
    }
   ],
   "source": [
    "one_gram = create_n_gram(files_content,1)\n",
    "voc = one_gram.keys()\n",
    "print (\"Vocabulary size: \" + repr(len(voc)))"
   ]
  },
  {
   "cell_type": "code",
   "execution_count": 8,
   "metadata": {
    "collapsed": false
   },
   "outputs": [
    {
     "name": "stdout",
     "output_type": "stream",
     "text": [
      "Number of 2-grams: 14459\n"
     ]
    }
   ],
   "source": [
    "two_gram = create_n_gram(files_content,2)\n",
    "print (\"Number of 2-grams: \" + repr(len(two_gram.keys())))"
   ]
  },
  {
   "cell_type": "code",
   "execution_count": 17,
   "metadata": {
    "collapsed": false
   },
   "outputs": [
    {
     "name": "stdout",
     "output_type": "stream",
     "text": [
      "Minimum entropy: 0.0\n",
      "Maximum entropy: 11.968306794430799\n"
     ]
    }
   ],
   "source": [
    "min_e,max_e = compute_min_max_entropy(voc)\n",
    "print (\"Minimum entropy: \" + repr(min_e) + \"\\nMaximum entropy: \" + repr(max_e))"
   ]
  },
  {
   "cell_type": "code",
   "execution_count": 9,
   "metadata": {
    "collapsed": false
   },
   "outputs": [
    {
     "name": "stdout",
     "output_type": "stream",
     "text": [
      "Entropy wtr given vocabulary: 9.789585236529488\n"
     ]
    }
   ],
   "source": [
    "ent = entropy(one_gram)\n",
    "print (\"Entropy wtr given vocabulary: \" + repr(ent))"
   ]
  },
  {
   "cell_type": "code",
   "execution_count": 10,
   "metadata": {
    "collapsed": false
   },
   "outputs": [
    {
     "name": "stdout",
     "output_type": "stream",
     "text": [
      "Conditional entropy of a 2-word phrase 'Y X' H(Y|X): 3.4713323914140166\n"
     ]
    }
   ],
   "source": [
    "cond_e = conditional_entropy(two_gram,one_gram)\n",
    "print (\"Conditional entropy of a 2-word phrase \\'Y X\\' H(Y|X): \" + repr(cond_e))"
   ]
  },
  {
   "cell_type": "code",
   "execution_count": 15,
   "metadata": {
    "collapsed": false
   },
   "outputs": [
    {
     "name": "stdout",
     "output_type": "stream",
     "text": [
      "Mutual information of words in 2-word phrase 'Y X' I(X,Y): 6.343019173741447\n"
     ]
    }
   ],
   "source": [
    "m_inf = mutual_information(two_gram,one_gram)\n",
    "print (\"Mutual information of words in 2-word phrase \\'Y X\\' I(X,Y): \" + repr(m_inf))"
   ]
  },
  {
   "cell_type": "code",
   "execution_count": 13,
   "metadata": {
    "collapsed": false
   },
   "outputs": [
    {
     "name": "stdout",
     "output_type": "stream",
     "text": [
      "Joint entropy of two words in a phrase 'Y X' H(X,Y): 13.260917627943353\n"
     ]
    }
   ],
   "source": [
    "j_ent = joint_entropy(two_gram)\n",
    "print (\"Joint entropy of two words in a phrase \\'Y X\\' H(X,Y): \" + repr(j_ent))"
   ]
  },
  {
   "cell_type": "code",
   "execution_count": 18,
   "metadata": {
    "collapsed": false
   },
   "outputs": [
    {
     "name": "stdout",
     "output_type": "stream",
     "text": [
      "\n"
     ]
    }
   ],
   "source": [
    "print ()"
   ]
  }
 ],
 "metadata": {
  "kernelspec": {
   "display_name": "Python 3",
   "language": "python",
   "name": "python3"
  },
  "language_info": {
   "codemirror_mode": {
    "name": "ipython",
    "version": 3
   },
   "file_extension": ".py",
   "mimetype": "text/x-python",
   "name": "python",
   "nbconvert_exporter": "python",
   "pygments_lexer": "ipython3",
   "version": "3.6.0"
  }
 },
 "nbformat": 4,
 "nbformat_minor": 2
}
