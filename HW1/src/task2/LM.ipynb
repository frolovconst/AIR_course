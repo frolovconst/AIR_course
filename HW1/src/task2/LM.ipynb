{
 "cells": [
  {
   "cell_type": "code",
   "execution_count": 112,
   "metadata": {
    "collapsed": true
   },
   "outputs": [],
   "source": [
    "## Import lib for extracting training set from pdfs\n",
    "import extract\n",
    "import importlib\n",
    "importlib.reload(extract)\n",
    "import numpy as np\n",
    "from sklearn.metrics import classification_report, confusion_matrix\n",
    "import matplotlib.pyplot as plt"
   ]
  },
  {
   "cell_type": "code",
   "execution_count": 4,
   "metadata": {
    "collapsed": true
   },
   "outputs": [],
   "source": [
    "#  Extract training set\n",
    "train_indicies = extract.extract_words()"
   ]
  },
  {
   "cell_type": "code",
   "execution_count": 5,
   "metadata": {
    "collapsed": true
   },
   "outputs": [],
   "source": [
    "# Read training files as one string\n",
    "smr_content = open('sum_train.txt', 'r').read()\n",
    "xprnc_content = open('exp_train.txt', 'r').read()\n",
    "edct_content = open('edu_train.txt', 'r').read()"
   ]
  },
  {
   "cell_type": "code",
   "execution_count": 6,
   "metadata": {
    "collapsed": true
   },
   "outputs": [],
   "source": [
    "def string_list(s_term, s_str):\n",
    "    result = []\n",
    "    crnt_ptr = s_str.find(s_term) + len(s_term)\n",
    "    scd_term_index=s_str.find(s_term, crnt_ptr)\n",
    "    while (scd_term_index>=0):\n",
    "        # count only significantly long segments (>9 characters)\n",
    "        if (scd_term_index-crnt_ptr>9):\n",
    "            result.append(s_term + ' ' + s_str[crnt_ptr:scd_term_index])\n",
    "        crnt_ptr = scd_term_index + len(s_term)\n",
    "        scd_term_index=s_str.find(s_term, crnt_ptr)\n",
    "    return result"
   ]
  },
  {
   "cell_type": "code",
   "execution_count": 7,
   "metadata": {
    "collapsed": true
   },
   "outputs": [],
   "source": [
    "# Put segment from each CV into separate string in an array\n",
    "sum_list = string_list(\"Summary\", smr_content)\n",
    "xprnc_list = string_list(\"Experience\", xprnc_content)\n",
    "edctn_list = string_list(\"Education\", edct_content)"
   ]
  },
  {
   "cell_type": "markdown",
   "metadata": {},
   "source": [
    "##\n",
    "(jan(uary|\\.|)|feb(ruary|\\.|)|mar(ch|\\.|)|apr(il|\\.|)|may(\\.|)|jun(e|\\.|)|jul(y|\\.|)|aug(ust|\\.|)|sep(tember|\\.|)|oct(ober|\\.|)|nov(ember|\\.|)|dec(ember|\\.|))\\s+\\d\\d*"
   ]
  },
  {
   "cell_type": "code",
   "execution_count": 8,
   "metadata": {
    "collapsed": true
   },
   "outputs": [],
   "source": [
    "# Function for extracting vocabulary specific for a segment\n",
    "import re\n",
    "from nltk.stem.snowball import SnowballStemmer\n",
    "def create_dictionary(topic_list):\n",
    "    month_expr = re.compile(r\"(jan(uary|\\.|)|feb(ruary|\\.|)|mar(ch|\\.|)|apr(il|\\.|)|may(\\.|)|jun(e|\\.|)|jul(y|\\.|)|aug(ust|\\.|)|sep(tember|\\.|)|oct(ober|\\.|)|nov(ember|\\.|)|dec(ember|\\.|))\")\n",
    "    year_expr = re.compile(r\"((19|20)\\d\\d|'?\\d\\d)\")\n",
    "    result = dict()\n",
    "    stemmer = SnowballStemmer('english')\n",
    "    for string in topic_list:\n",
    "        a = re.split('[^0-9A-Za-z]', string)\n",
    "        a=list(filter(lambda x: x!='', a))\n",
    "        for i in range(len(a)):\n",
    "            a[i] = a[i].casefold()\n",
    "            if re.fullmatch(year_expr, a[i]):\n",
    "                a[i] = '!year'\n",
    "            elif re.fullmatch(month_expr, a[i]):\n",
    "                a[i] = '!month'\n",
    "            else:\n",
    "                a[i] = stemmer.stem(a[i])\n",
    "            if (a[i] in result):\n",
    "                result[a[i]] += 1\n",
    "            else:\n",
    "                result[a[i]] = 1\n",
    "                \n",
    "    return result\n"
   ]
  },
  {
   "cell_type": "code",
   "execution_count": 9,
   "metadata": {
    "collapsed": true
   },
   "outputs": [],
   "source": [
    "# Extract vocabulary specific for a segment\n",
    "sum_dct = create_dictionary(sum_list)\n",
    "xprnc_dct = create_dictionary(xprnc_list)\n",
    "edctn_dct = create_dictionary(edctn_list)"
   ]
  },
  {
   "cell_type": "code",
   "execution_count": 10,
   "metadata": {
    "collapsed": true
   },
   "outputs": [],
   "source": [
    "# Functions for calculating term frequencies and corpus dictionary creation\n",
    "def concat_dct(d1, d2):\n",
    "    d3 = dict(d1)\n",
    "    for key in d2.keys():\n",
    "        if (key in d3):\n",
    "            d3[key] += d2[key]\n",
    "        else:\n",
    "            d3[key] = d2[key]\n",
    "    return d3\n",
    "\n",
    "def sumDictValues(dctnr):\n",
    "    N = 0\n",
    "    for val in dctnr.values():\n",
    "        N = + N + val\n",
    "    return N\n",
    "\n",
    "def calc_probs(dctnr):\n",
    "    prob_dctnr = dict()\n",
    "    tot_size = sumDictValues(dctnr)\n",
    "    for key in dctnr.keys():\n",
    "        prob_dctnr[key] = dctnr[key]/tot_size\n",
    "    return prob_dctnr"
   ]
  },
  {
   "cell_type": "code",
   "execution_count": 11,
   "metadata": {
    "collapsed": true
   },
   "outputs": [],
   "source": [
    "# Uniting into corpus dictionary\n",
    "new_dict = concat_dct(xprnc_dct, edctn_dct)\n",
    "whole_dict = concat_dct(new_dict, sum_dct)"
   ]
  },
  {
   "cell_type": "code",
   "execution_count": 12,
   "metadata": {
    "collapsed": true
   },
   "outputs": [],
   "source": [
    "# Calculating probabilities\n",
    "sum_prb = calc_probs(sum_dct)\n",
    "xprnc_prb = calc_probs(xprnc_dct)\n",
    "edctn_prb = calc_probs(edctn_dct)\n",
    "whole_dict_prb = calc_probs(whole_dict)"
   ]
  },
  {
   "cell_type": "code",
   "execution_count": 13,
   "metadata": {
    "collapsed": true
   },
   "outputs": [],
   "source": [
    "# Test data generation\n",
    "smr_test_content = open('sum_test.txt', 'r').read()\n",
    "exp_test_content = open('exp_test.txt', 'r').read()\n",
    "edu_test_content = open('edu_test.txt', 'r').read()"
   ]
  },
  {
   "cell_type": "code",
   "execution_count": 241,
   "metadata": {
    "collapsed": true
   },
   "outputs": [],
   "source": [
    "def replace_with_space(matchobj):\n",
    "    return \" \"\n",
    "\n",
    "def construct_marked_set(new_content):\n",
    "    CRIT_LENGTH_LIMIT = 100\n",
    "    result = np.zeros(4).reshape(1,4)\n",
    "#    rep_pattern = re.compile(r\"((Summary|Experience|Education)|[^A-Za-z0-9\\s])\")\n",
    "    rep_pattern = re.compile(r\"([^A-Za-z0-9\\s])\")\n",
    "    category = 1\n",
    "    for string in new_content:\n",
    "        a = re.sub(rep_pattern, replace_with_space, string)\n",
    "        cumulative_str = ''\n",
    "        for substr in a.split('\\n'):\n",
    "            cumulative_str += substr + ' '\n",
    "            if(len(cumulative_str) > CRIT_LENGTH_LIMIT):\n",
    "                result = np.append(result, np.asarray([cumulative_str, category, 0, -300000.0]).reshape(1,4), axis=0)\n",
    "                cumulative_str = ''\n",
    "        if(len(cumulative_str) > 2):\n",
    "                result = np.append(result, np.asarray([cumulative_str, category, 0, -300000.0]).reshape(1,4), axis=0)\n",
    "        category += 1\n",
    "    return result[1:]"
   ]
  },
  {
   "cell_type": "code",
   "execution_count": 242,
   "metadata": {
    "collapsed": true
   },
   "outputs": [],
   "source": [
    "test_set = construct_marked_set([smr_test_content, edu_test_content, exp_test_content])"
   ]
  },
  {
   "cell_type": "code",
   "execution_count": 178,
   "metadata": {
    "collapsed": true
   },
   "outputs": [],
   "source": [
    "import math as m\n",
    "from nltk.stem.snowball import SnowballStemmer\n",
    "def calculate_likelihood(string, dct, corp_dct, prb_segment):\n",
    "    stemmer = SnowballStemmer('english')\n",
    "    month_expr = re.compile(r\"(jan(uary|\\.|)|feb(ruary|\\.|)|mar(ch|\\.|)|apr(il|\\.|)|may(\\.|)|jun(e|\\.|)|jul(y|\\.|)|aug(ust|\\.|)|sep(tember|\\.|)|oct(ober|\\.|)|nov(ember|\\.|)|dec(ember|\\.|))\")\n",
    "    year_expr = re.compile(r\"((19|20)\\d\\d|'?\\d\\d)\")\n",
    "    num = 1.0\n",
    "    den = 1.0\n",
    "    result = .0\n",
    "    for word in string.split():\n",
    "        wrd = word.casefold()\n",
    "        if re.fullmatch(year_expr, wrd):\n",
    "            wrd = '!year'\n",
    "        elif re.fullmatch(month_expr, wrd):\n",
    "            wrd = '!month'\n",
    "        else:\n",
    "             wrd = stemmer.stem(wrd)\n",
    "        #print(wrd)\n",
    "        if wrd in dct:# and wrd in corp_dct:\n",
    "            num *= dct[wrd]\n",
    "            den *= corp_dct[wrd]\n",
    "            result += m.log2(prb_segment*num/den)\n",
    "        else:\n",
    "            result += m.log2(1e-300)\n",
    "    #print(num)\n",
    "    #print(den)\n",
    "    return result\n",
    "    \n",
    "def test_algorithm(test_set, dictionaries, corpus_dict):\n",
    "    local_test_set = test_set.copy()\n",
    "    #likelihoods = np.zeros(len(dictionaries))\n",
    "    prb_corpus = calc_probs(corpus_dict)\n",
    "    i=0\n",
    "    for a_dict in dictionaries:\n",
    "        prb_segment = sumDictValues(a_dict) / sumDictValues(corpus_dict)\n",
    "        print('Segment ' + repr(i+1) + ' portion in the dictionary ' + repr(prb_segment))\n",
    "        prb_dict = calc_probs(a_dict)\n",
    "        for line in local_test_set:\n",
    "#                print('new_like')\n",
    "#                print(line[0] + \"ttteeest\")\n",
    "            likelihood = calculate_likelihood(line[0], prb_dict, prb_corpus, prb_segment)\n",
    "            if likelihood > np.float(line[3]):\n",
    "                line[3] = likelihood\n",
    "                line[2] = i+1\n",
    "        i+=1\n",
    "    prc, recall, f_one_score = quality_assessment(local_test_set[:,1], local_test_set[:,2], 3)\n",
    "    return f_one_score"
   ]
  },
  {
   "cell_type": "code",
   "execution_count": 65,
   "metadata": {},
   "outputs": [
    {
     "name": "stdout",
     "output_type": "stream",
     "text": [
      "Segment 1 portion in the dictionary 0.17029628434693767\n",
      "Segment 2 portion in the dictionary 0.14201215249771468\n",
      "Segment 3 portion in the dictionary 0.6876915631553476\n",
      "precision = 0.908257\n",
      "recall = 0.75572519084\n",
      "F1-score = 0.825\n",
      "0.825\n"
     ]
    }
   ],
   "source": [
    "f1_score = test_algorithm(test_set, [sum_dct, edctn_dct, xprnc_dct], whole_dict)\n",
    "print(f1_score)"
   ]
  },
  {
   "cell_type": "code",
   "execution_count": 305,
   "metadata": {
    "collapsed": true
   },
   "outputs": [],
   "source": [
    "# precision, recall, F1-score\n",
    "def quality_assessment(a, b, ctgr):\n",
    "    b_correct = ((a.astype(int) == b.astype(int)) * a.astype(int)==ctgr).sum()\n",
    "    b_attempts = ((b.astype(int) == ctgr)).sum()\n",
    "    a_total = ((a.astype(int) == ctgr)).sum()\n",
    "    if b_attempts == 0:\n",
    "        return 0, 0, 0\n",
    "    prec = b_correct/b_attempts\n",
    "    rcll = b_correct/a_total\n",
    "    f_one = 2*prec*rcll/(prec+rcll)\n",
    "#    print ('precision = %f' %prec)\n",
    "#    print ('recall =', rcll)\n",
    "#    print ('F1-score =', f_one)\n",
    "    return prec, rcll, f_one"
   ]
  },
  {
   "cell_type": "code",
   "execution_count": 19,
   "metadata": {},
   "outputs": [
    {
     "name": "stdout",
     "output_type": "stream",
     "text": [
      "precision = 0.409091\n",
      "recall = 0.5625\n",
      "F1-score = 0.473684210526\n"
     ]
    },
    {
     "data": {
      "text/plain": [
       "(0.40909090909090912, 0.5625, 0.47368421052631576)"
      ]
     },
     "execution_count": 19,
     "metadata": {},
     "output_type": "execute_result"
    }
   ],
   "source": [
    "# summary identification assessment\n",
    "quality_assessment(test_set[:,1], test_set[:,2], 1)"
   ]
  },
  {
   "cell_type": "code",
   "execution_count": 20,
   "metadata": {},
   "outputs": [
    {
     "name": "stdout",
     "output_type": "stream",
     "text": [
      "precision = 0.772727\n",
      "recall = 1.0\n",
      "F1-score = 0.871794871795\n"
     ]
    },
    {
     "data": {
      "text/plain": [
       "(0.77272727272727271, 1.0, 0.87179487179487181)"
      ]
     },
     "execution_count": 20,
     "metadata": {},
     "output_type": "execute_result"
    }
   ],
   "source": [
    "# education identification assessment\n",
    "quality_assessment(test_set[:,1], test_set[:,2], 2)"
   ]
  },
  {
   "cell_type": "code",
   "execution_count": 57,
   "metadata": {},
   "outputs": [
    {
     "name": "stdout",
     "output_type": "stream",
     "text": [
      "precision = nan\n",
      "recall = 0.0\n",
      "F1-score = nan\n"
     ]
    },
    {
     "name": "stderr",
     "output_type": "stream",
     "text": [
      "RuntimeWarning: invalid value encountered in long_scalars [ipykernel_launcher.py:6]\n"
     ]
    },
    {
     "data": {
      "text/plain": [
       "(nan, 0.0, nan)"
      ]
     },
     "execution_count": 57,
     "metadata": {},
     "output_type": "execute_result"
    }
   ],
   "source": [
    "# experience identification assessment\n",
    "quality_assessment(test_set[:,1], test_set[:,2], 3)"
   ]
  },
  {
   "cell_type": "code",
   "execution_count": 22,
   "metadata": {},
   "outputs": [
    {
     "name": "stdout",
     "output_type": "stream",
     "text": [
      "[[18  4 10]\n",
      " [ 0 34  0]\n",
      " [26  6 99]]\n"
     ]
    }
   ],
   "source": [
    "print(confusion_matrix(test_set[:,1], test_set[:,2]))"
   ]
  },
  {
   "cell_type": "code",
   "execution_count": 23,
   "metadata": {
    "collapsed": true
   },
   "outputs": [],
   "source": [
    "# Extract test set from 'other' folder\n",
    "file_number_in_folder=6\n",
    "extract.extract_other_pdfs(file_number_in_folder)"
   ]
  },
  {
   "cell_type": "code",
   "execution_count": 24,
   "metadata": {
    "collapsed": true
   },
   "outputs": [],
   "source": [
    "# Test data generation\n",
    "other_test_content = open('test_other.txt', 'r').read()"
   ]
  },
  {
   "cell_type": "code",
   "execution_count": 169,
   "metadata": {},
   "outputs": [
    {
     "data": {
      "text/plain": [
       "'Stefan Petranek  78 Vermont Street Rochester, NY 14609     spetrane@yahoo\\n.com     (585) 256 0296   '"
      ]
     },
     "execution_count": 169,
     "metadata": {},
     "output_type": "execute_result"
    }
   ],
   "source": [
    "# Head of selected CV\n",
    "other_test_content[:100]"
   ]
  },
  {
   "cell_type": "code",
   "execution_count": 53,
   "metadata": {
    "collapsed": true
   },
   "outputs": [],
   "source": [
    "test_set_other = construct_marked_set([other_test_content])"
   ]
  },
  {
   "cell_type": "code",
   "execution_count": 54,
   "metadata": {},
   "outputs": [
    {
     "name": "stdout",
     "output_type": "stream",
     "text": [
      "Segment 1 portion in the dictionary 0.17029628434693767\n"
     ]
    },
    {
     "ename": "ValueError",
     "evalue": "math domain error",
     "output_type": "error",
     "traceback": [
      "\u001b[0;31m---------------------------------------------------------------------------\u001b[0m",
      "\u001b[0;31mValueError\u001b[0m                                Traceback (most recent call last)",
      "\u001b[0;32m<ipython-input-54-f6d02ef25290>\u001b[0m in \u001b[0;36m<module>\u001b[0;34m()\u001b[0m\n\u001b[0;32m----> 1\u001b[0;31m \u001b[0mtest_algorithm\u001b[0m\u001b[0;34m(\u001b[0m\u001b[0mtest_set_other\u001b[0m\u001b[0;34m,\u001b[0m \u001b[0;34m[\u001b[0m\u001b[0msum_dct\u001b[0m\u001b[0;34m,\u001b[0m \u001b[0medctn_dct\u001b[0m\u001b[0;34m,\u001b[0m \u001b[0mxprnc_dct\u001b[0m\u001b[0;34m]\u001b[0m\u001b[0;34m,\u001b[0m \u001b[0mwhole_dict\u001b[0m\u001b[0;34m)\u001b[0m\u001b[0;34m\u001b[0m\u001b[0m\n\u001b[0m",
      "\u001b[0;32m<ipython-input-45-7656d9b964b1>\u001b[0m in \u001b[0;36mtest_algorithm\u001b[0;34m(test_set, dictionaries, corpus_dict)\u001b[0m\n\u001b[1;32m     37\u001b[0m \u001b[0;31m#                print('new_like')\u001b[0m\u001b[0;34m\u001b[0m\u001b[0;34m\u001b[0m\u001b[0m\n\u001b[1;32m     38\u001b[0m \u001b[0;31m#                print(line[0] + \"ttteeest\")\u001b[0m\u001b[0;34m\u001b[0m\u001b[0;34m\u001b[0m\u001b[0m\n\u001b[0;32m---> 39\u001b[0;31m                 \u001b[0mlikelihood\u001b[0m \u001b[0;34m=\u001b[0m \u001b[0mcalculate_likelihood\u001b[0m\u001b[0;34m(\u001b[0m\u001b[0mline\u001b[0m\u001b[0;34m[\u001b[0m\u001b[0;36m0\u001b[0m\u001b[0;34m]\u001b[0m\u001b[0;34m,\u001b[0m \u001b[0mprb_dict\u001b[0m\u001b[0;34m,\u001b[0m \u001b[0mprb_corpus\u001b[0m\u001b[0;34m,\u001b[0m \u001b[0mprb_segment\u001b[0m\u001b[0;34m)\u001b[0m\u001b[0;34m\u001b[0m\u001b[0m\n\u001b[0m\u001b[1;32m     40\u001b[0m                 \u001b[0;32mif\u001b[0m \u001b[0mlikelihood\u001b[0m \u001b[0;34m>\u001b[0m \u001b[0mnp\u001b[0m\u001b[0;34m.\u001b[0m\u001b[0mfloat\u001b[0m\u001b[0;34m(\u001b[0m\u001b[0mline\u001b[0m\u001b[0;34m[\u001b[0m\u001b[0;36m3\u001b[0m\u001b[0;34m]\u001b[0m\u001b[0;34m)\u001b[0m\u001b[0;34m:\u001b[0m\u001b[0;34m\u001b[0m\u001b[0m\n\u001b[1;32m     41\u001b[0m                     \u001b[0mline\u001b[0m\u001b[0;34m[\u001b[0m\u001b[0;36m3\u001b[0m\u001b[0;34m]\u001b[0m \u001b[0;34m=\u001b[0m \u001b[0mlikelihood\u001b[0m\u001b[0;34m\u001b[0m\u001b[0m\n",
      "\u001b[0;32m<ipython-input-45-7656d9b964b1>\u001b[0m in \u001b[0;36mcalculate_likelihood\u001b[0;34m(string, dct, corp_dct, prb_segment)\u001b[0m\n\u001b[1;32m     20\u001b[0m             \u001b[0mnum\u001b[0m \u001b[0;34m*=\u001b[0m \u001b[0mdct\u001b[0m\u001b[0;34m[\u001b[0m\u001b[0mwrd\u001b[0m\u001b[0;34m]\u001b[0m\u001b[0;34m\u001b[0m\u001b[0m\n\u001b[1;32m     21\u001b[0m             \u001b[0mden\u001b[0m \u001b[0;34m*=\u001b[0m \u001b[0mcorp_dct\u001b[0m\u001b[0;34m[\u001b[0m\u001b[0mwrd\u001b[0m\u001b[0;34m]\u001b[0m\u001b[0;34m\u001b[0m\u001b[0m\n\u001b[0;32m---> 22\u001b[0;31m             \u001b[0mresult\u001b[0m \u001b[0;34m+=\u001b[0m \u001b[0mm\u001b[0m\u001b[0;34m.\u001b[0m\u001b[0mlog2\u001b[0m\u001b[0;34m(\u001b[0m\u001b[0mprb_segment\u001b[0m\u001b[0;34m*\u001b[0m\u001b[0mnum\u001b[0m\u001b[0;34m/\u001b[0m\u001b[0mden\u001b[0m\u001b[0;34m)\u001b[0m\u001b[0;34m\u001b[0m\u001b[0m\n\u001b[0m\u001b[1;32m     23\u001b[0m     \u001b[0;31m#print(num)\u001b[0m\u001b[0;34m\u001b[0m\u001b[0;34m\u001b[0m\u001b[0m\n\u001b[1;32m     24\u001b[0m     \u001b[0;31m#print(den)\u001b[0m\u001b[0;34m\u001b[0m\u001b[0;34m\u001b[0m\u001b[0m\n",
      "\u001b[0;31mValueError\u001b[0m: math domain error"
     ]
    }
   ],
   "source": [
    "test_algorithm(test_set_other, [sum_dct, edctn_dct, xprnc_dct], whole_dict)"
   ]
  },
  {
   "cell_type": "code",
   "execution_count": 172,
   "metadata": {
    "collapsed": true
   },
   "outputs": [],
   "source": [
    "def print_recognition_results(test_set):\n",
    "    category=''\n",
    "    for line in test_set:\n",
    "        if line[2] == '1':\n",
    "            category = 'Summary'\n",
    "        elif line[2] == '2':\n",
    "            category = 'Education'\n",
    "        else:\n",
    "            category = 'Experience'\n",
    "        print(line[0][:50] + '...\\t\\t' + category)"
   ]
  },
  {
   "cell_type": "code",
   "execution_count": 320,
   "metadata": {
    "collapsed": true
   },
   "outputs": [],
   "source": [
    "def jelin_merc_smoothing(segm_dict, corpus_dict, lmbd):\n",
    "    result_dct = segm_dict.copy()\n",
    "    for key in corpus_dict.keys():\n",
    "        if key in segm_dict:\n",
    "            result_dct[key] = (1-lmbd)*segm_dict[key] + lmbd*corpus_dict[key]\n",
    "        else:\n",
    "            result_dct[key] = lmbd*corpus_dict[key]\n",
    "    return result_dct\n",
    "\n",
    "def dirichlet_smoothing(segm_dict, corpus_dict, mu):\n",
    "    result_dct = segm_dict.copy()\n",
    "    d = len(segm_dict.keys())\n",
    "    for key in corpus_dict.keys():\n",
    "        if key in segm_dict:\n",
    "            result_dct[key] = d/(d+mu)*segm_dict[key] + mu/(d+mu)*corpus_dict[key]\n",
    "        else:\n",
    "            result_dct[key] = mu/(d+mu)*corpus_dict[key]\n",
    "    return result_dct"
   ]
  },
  {
   "cell_type": "code",
   "execution_count": 321,
   "metadata": {
    "collapsed": true
   },
   "outputs": [],
   "source": [
    "def test_algorithm_w_smoothing(test_set, dictionaries, corpus_dict, param):\n",
    "    #likelihoods = np.zeros(len(dictionaries))\n",
    "    local_test_set = test_set.copy()\n",
    "    prb_corpus = calc_probs(corpus_dict)\n",
    "    i=0\n",
    "    for a_dict in dictionaries:\n",
    "        prb_segment = sumDictValues(a_dict) / sumDictValues(corpus_dict)\n",
    "#        print('Segment ' + repr(i+1) + ' portion in the dictionary ' + repr(prb_segment))\n",
    "        prb_dict = calc_probs(a_dict)\n",
    "        prb_smoothed = dirichlet_smoothing(prb_dict, prb_corpus, param)\n",
    "        for line in local_test_set:\n",
    "#                print('new_like')\n",
    "#                print(line[0] + \"ttteeest\")\n",
    "            likelihood = calculate_likelihood(line[0], prb_smoothed, prb_corpus, prb_segment)\n",
    "            if likelihood > np.float(line[3]):\n",
    "                line[3] = likelihood\n",
    "                line[2] = i+1\n",
    "        i+=1\n",
    "    F1_score_array = np.array([])\n",
    "    F1_score_array = np.append(F1_score_array, quality_assessment(local_test_set[:,1], local_test_set[:,2], 1)[2])\n",
    "    F1_score_array = np.append(F1_score_array, quality_assessment(local_test_set[:,1], local_test_set[:,2], 2)[2])\n",
    "    F1_score_array = np.append(F1_score_array, quality_assessment(local_test_set[:,1], local_test_set[:,2], 3)[2])\n",
    "    f_one_score = np.mean(F1_score_array)\n",
    "    return f_one_score"
   ]
  },
  {
   "cell_type": "code",
   "execution_count": 327,
   "metadata": {},
   "outputs": [
    {
     "name": "stdout",
     "output_type": "stream",
     "text": [
      "0.690924775707\n"
     ]
    }
   ],
   "source": [
    "f1_score = test_algorithm_w_smoothing(test_set, [sum_dct, edctn_dct, xprnc_dct], whole_dict, 1)\n",
    "print(f1_score)"
   ]
  },
  {
   "cell_type": "code",
   "execution_count": 316,
   "metadata": {
    "collapsed": true
   },
   "outputs": [],
   "source": [
    "def analyze_lmbd(test_set, dictionaries, corpus_dict):\n",
    "    lmbd_arr = np.linspace(0,1,10)\n",
    "    lmbd_arr[0] = 1e-10\n",
    "    f_score_arr = np.zeros(lmbd_arr.size)\n",
    "    for i in range(len(lmbd_arr)):\n",
    "        f_score_arr[i] = test_algorithm_w_smoothing(test_set, dictionaries, corpus_dict, lmbd_arr[i])\n",
    "    print('F1-score array: {}'.format(f_score_arr))\n",
    "    return lmbd_arr, f_score_arr"
   ]
  },
  {
   "cell_type": "code",
   "execution_count": 318,
   "metadata": {},
   "outputs": [
    {
     "name": "stdout",
     "output_type": "stream",
     "text": [
      "F1-score array: [ 0.65236876  0.7539099   0.7461145   0.7461145   0.75590829  0.74858328\n",
      "  0.74444032  0.76334     0.64864468  0.26626016]\n"
     ]
    }
   ],
   "source": [
    "lambdas, f_scores = analyze_lmbd(test_set, [sum_dct, edctn_dct, xprnc_dct], whole_dict)"
   ]
  },
  {
   "cell_type": "code",
   "execution_count": 137,
   "metadata": {},
   "outputs": [
    {
     "data": {
      "text/plain": [
       "1.0"
      ]
     },
     "execution_count": 137,
     "metadata": {},
     "output_type": "execute_result"
    }
   ],
   "source": [
    "lambdas[9]"
   ]
  },
  {
   "cell_type": "code",
   "execution_count": 319,
   "metadata": {},
   "outputs": [
    {
     "data": {
      "image/png": "[encoded data removed]",
      "text/plain": [
       "<matplotlib.figure.Figure at 0x10f79c6d8>"
      ]
     },
     "metadata": {},
     "output_type": "display_data"
    }
   ],
   "source": [
    "fig = plt.figure(figsize=[15,10])\n",
    "plt.plot(lambdas, f_scores)\n",
    "plt.grid()\n",
    "plt.show()"
   ]
  },
  {
   "cell_type": "code",
   "execution_count": 336,
   "metadata": {
    "collapsed": true
   },
   "outputs": [],
   "source": [
    "def analyze_mu(test_set, dictionaries, corpus_dict):\n",
    "    mu_arr = np.geomspace(1,10000,num=10)\n",
    "    f_score_arr = np.zeros(mu_arr.size)\n",
    "    for i in range(len(mu_arr)):\n",
    "        f_score_arr[i] = test_algorithm_w_smoothing(test_set, dictionaries, corpus_dict, mu_arr[i])\n",
    "    print('F1-score array: {}'.format(f_score_arr))\n",
    "    return mu_arr, f_score_arr"
   ]
  },
  {
   "cell_type": "code",
   "execution_count": 335,
   "metadata": {},
   "outputs": [
    {
     "data": {
      "text/plain": [
       "array([  1.00000000e+00,   2.78255940e+00,   7.74263683e+00,\n",
       "         2.15443469e+01,   5.99484250e+01,   1.66810054e+02,\n",
       "         4.64158883e+02,   1.29154967e+03,   3.59381366e+03,\n",
       "         1.00000000e+04])"
      ]
     },
     "execution_count": 335,
     "metadata": {},
     "output_type": "execute_result"
    }
   ],
   "source": [
    "np.geomspace(1,10000,num=10)"
   ]
  },
  {
   "cell_type": "code",
   "execution_count": 337,
   "metadata": {},
   "outputs": [
    {
     "name": "stdout",
     "output_type": "stream",
     "text": [
      "F1-score array: [ 0.69092478  0.71069902  0.72378977  0.74653641  0.73886215  0.75673768\n",
      "  0.75089699  0.75420244  0.74202745  0.57095719]\n"
     ]
    }
   ],
   "source": [
    "mus, f_scores = analyze_mu(test_set, [sum_dct, edctn_dct, xprnc_dct], whole_dict)"
   ]
  },
  {
   "cell_type": "code",
   "execution_count": 350,
   "metadata": {},
   "outputs": [
    {
     "data": {
      "image/png": "[encoded data removed]",
      "text/plain": [
       "<matplotlib.figure.Figure at 0x11a912f28>"
      ]
     },
     "metadata": {},
     "output_type": "display_data"
    }
   ],
   "source": [
    "from matplotlib.axes import Axes\n",
    "fig = plt.figure(figsize=[15,10])\n",
    "plt.semilogx()\n",
    "plt.plot(mus, f_scores)\n",
    "plt.grid()\n",
    "plt.show()"
   ]
  },
  {
   "cell_type": "code",
   "execution_count": 338,
   "metadata": {},
   "outputs": [
    {
     "data": {
      "text/plain": [
       "array([  1.00000000e+00,   2.78255940e+00,   7.74263683e+00,\n",
       "         2.15443469e+01,   5.99484250e+01,   1.66810054e+02,\n",
       "         4.64158883e+02,   1.29154967e+03,   3.59381366e+03,\n",
       "         1.00000000e+04])"
      ]
     },
     "execution_count": 338,
     "metadata": {},
     "output_type": "execute_result"
    }
   ],
   "source": [
    "mus"
   ]
  },
  {
   "cell_type": "code",
   "execution_count": null,
   "metadata": {
    "collapsed": true
   },
   "outputs": [],
   "source": []
  }
 ],
 "metadata": {
  "kernelspec": {
   "display_name": "Python 3",
   "language": "python",
   "name": "python3"
  },
  "language_info": {
   "codemirror_mode": {
    "name": "ipython",
    "version": 3
   },
   "file_extension": ".py",
   "mimetype": "text/x-python",
   "name": "python",
   "nbconvert_exporter": "python",
   "pygments_lexer": "ipython3",
   "version": "3.6.1"
  }
 },
 "nbformat": 4,
 "nbformat_minor": 2
}
