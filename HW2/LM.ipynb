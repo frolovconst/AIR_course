{
 "cells": [
  {
   "cell_type": "code",
   "execution_count": 40,
   "metadata": {
    "collapsed": true
   },
   "outputs": [],
   "source": [
    "## Import lib for extracting training set from pdfs\n",
    "import extract\n",
    "import importlib\n",
    "importlib.reload(extract)\n",
    "import numpy as np\n",
    "from sklearn.metrics import classification_report, confusion_matrix\n",
    "import matplotlib.pyplot as plt\n",
    "from matplotlib.axes import Axes\n",
    "from scipy import optimize"
   ]
  },
  {
   "cell_type": "code",
   "execution_count": 41,
   "metadata": {
    "collapsed": true
   },
   "outputs": [],
   "source": [
    "#  Extract training set\n",
    "train_indicies = extract.extract_words()"
   ]
  },
  {
   "cell_type": "code",
   "execution_count": 42,
   "metadata": {
    "collapsed": true
   },
   "outputs": [],
   "source": [
    "# Read training files as one string\n",
    "smr_content = open('sum_train.txt', 'r').read()\n",
    "xprnc_content = open('exp_train.txt', 'r').read()\n",
    "edct_content = open('edu_train.txt', 'r').read()"
   ]
  },
  {
   "cell_type": "code",
   "execution_count": 43,
   "metadata": {
    "collapsed": true
   },
   "outputs": [],
   "source": [
    "# take a segment name (s_tern) and a string of the whole segment content and split the content for different CVs\n",
    "def string_list(s_term, s_str):\n",
    "    result = []\n",
    "    crnt_ptr = s_str.find(s_term) + len(s_term)\n",
    "    scd_term_index=s_str.find(s_term, crnt_ptr)\n",
    "    while (scd_term_index>=0):\n",
    "        # count only significantly long segments (>9 characters)\n",
    "        if (scd_term_index-crnt_ptr>9):\n",
    "            result.append(s_term + ' ' + s_str[crnt_ptr:scd_term_index])\n",
    "        crnt_ptr = scd_term_index + len(s_term)\n",
    "        scd_term_index=s_str.find(s_term, crnt_ptr)\n",
    "    return result"
   ]
  },
  {
   "cell_type": "code",
   "execution_count": 44,
   "metadata": {
    "collapsed": true
   },
   "outputs": [],
   "source": [
    "# Put segment from each CV into separate string in an array\n",
    "sum_list = string_list(\"Summary\", smr_content)\n",
    "xprnc_list = string_list(\"Experience\", xprnc_content)\n",
    "edctn_list = string_list(\"Education\", edct_content)"
   ]
  },
  {
   "cell_type": "code",
   "execution_count": 45,
   "metadata": {
    "collapsed": true
   },
   "outputs": [],
   "source": [
    "# Function for extracting vocabulary specific for a segment\n",
    "import re\n",
    "from nltk.stem.snowball import SnowballStemmer\n",
    "def create_dictionary(topic_list):\n",
    "    month_expr = re.compile(r\"(jan(uary|\\.|)|feb(ruary|\\.|)|mar(ch|\\.|)|apr(il|\\.|)|may(\\.|)|jun(e|\\.|)|jul(y|\\.|)|aug(ust|\\.|)|sep(tember|\\.|)|oct(ober|\\.|)|nov(ember|\\.|)|dec(ember|\\.|))\")\n",
    "    year_expr = re.compile(r\"((19|20)\\d\\d|'?\\d\\d)\")\n",
    "    result = dict()\n",
    "    stemmer = SnowballStemmer('english')\n",
    "    for string in topic_list:\n",
    "        # split a certain CV part into words and filter blanks out\n",
    "        a = re.split('[^0-9A-Za-z]', string)\n",
    "        a=list(filter(lambda x: x!='', a))\n",
    "        for i in range(len(a)):\n",
    "            a[i] = a[i].casefold()\n",
    "            if re.fullmatch(year_expr, a[i]):\n",
    "                a[i] = '!year'\n",
    "            elif re.fullmatch(month_expr, a[i]):\n",
    "                a[i] = '!month'\n",
    "            else:\n",
    "                a[i] = stemmer.stem(a[i])\n",
    "            if (a[i] in result):\n",
    "                result[a[i]] += 1\n",
    "            else:\n",
    "                result[a[i]] = 1\n",
    "                \n",
    "    return result\n",
    "\n",
    "def create_dct_from_string(string):\n",
    "    month_expr = re.compile(r\"(jan(uary|\\.|)|feb(ruary|\\.|)|mar(ch|\\.|)|apr(il|\\.|)|may(\\.|)|jun(e|\\.|)|jul(y|\\.|)|aug(ust|\\.|)|sep(tember|\\.|)|oct(ober|\\.|)|nov(ember|\\.|)|dec(ember|\\.|))\")\n",
    "    year_expr = re.compile(r\"((19|20)\\d\\d|'?\\d\\d)\")\n",
    "    result = dict()\n",
    "    stemmer = SnowballStemmer('english')\n",
    "    \n",
    "    # split a certain CV part into words and filter blanks out\n",
    "    a = re.split('[^0-9A-Za-z]', string)\n",
    "    a=list(filter(lambda x: x!='', a))\n",
    "    for i in range(len(a)):\n",
    "        a[i] = a[i].casefold()\n",
    "        if re.fullmatch(year_expr, a[i]):\n",
    "            a[i] = '!year'\n",
    "        elif re.fullmatch(month_expr, a[i]):\n",
    "            a[i] = '!month'\n",
    "        else:\n",
    "            a[i] = stemmer.stem(a[i])\n",
    "        if (a[i] in result):\n",
    "            result[a[i]] += 1\n",
    "        else:\n",
    "            result[a[i]] = 1\n",
    "                \n",
    "    return result\n"
   ]
  },
  {
   "cell_type": "code",
   "execution_count": 46,
   "metadata": {
    "collapsed": true
   },
   "outputs": [],
   "source": [
    "# Extract vocabulary specific for a segment\n",
    "sum_dct = create_dictionary(sum_list)\n",
    "xprnc_dct = create_dictionary(xprnc_list)\n",
    "edctn_dct = create_dictionary(edctn_list)"
   ]
  },
  {
   "cell_type": "code",
   "execution_count": 47,
   "metadata": {
    "collapsed": true
   },
   "outputs": [],
   "source": [
    "# Functions for calculating term frequencies and corpus dictionary creation\n",
    "def concat_dct(d1, d2):\n",
    "    d3 = dict(d1)\n",
    "    for key in d2.keys():\n",
    "        if (key in d3):\n",
    "            d3[key] += d2[key]\n",
    "        else:\n",
    "            d3[key] = d2[key]\n",
    "    return d3\n",
    "\n",
    "def sumDictValues(dctnr):\n",
    "    N = 0\n",
    "    for val in dctnr.values():\n",
    "        N = N + val\n",
    "    return N\n",
    "\n",
    "def calc_probs(dctnr):\n",
    "    prob_dctnr = dict()\n",
    "    tot_size = sumDictValues(dctnr)\n",
    "    for key in dctnr.keys():\n",
    "        prob_dctnr[key] = dctnr[key]/tot_size\n",
    "    return prob_dctnr"
   ]
  },
  {
   "cell_type": "code",
   "execution_count": 50,
   "metadata": {
    "collapsed": true
   },
   "outputs": [],
   "source": [
    "# Uniting into corpus dictionary\n",
    "new_dict = concat_dct(xprnc_dct, edctn_dct)\n",
    "whole_dict = concat_dct(new_dict, sum_dct)"
   ]
  },
  {
   "cell_type": "code",
   "execution_count": 51,
   "metadata": {
    "collapsed": true
   },
   "outputs": [],
   "source": [
    "# Calculating probabilities\n",
    "sum_prb = calc_probs(sum_dct)\n",
    "xprnc_prb = calc_probs(xprnc_dct)\n",
    "edctn_prb = calc_probs(edctn_dct)\n",
    "whole_dict_prb = calc_probs(whole_dict)"
   ]
  },
  {
   "cell_type": "code",
   "execution_count": 52,
   "metadata": {
    "collapsed": true
   },
   "outputs": [],
   "source": [
    "# Test data generation\n",
    "smr_test_content = open('sum_test.txt', 'r').read()\n",
    "exp_test_content = open('exp_test.txt', 'r').read()\n",
    "edu_test_content = open('edu_test.txt', 'r').read()"
   ]
  },
  {
   "cell_type": "code",
   "execution_count": 53,
   "metadata": {
    "collapsed": true
   },
   "outputs": [],
   "source": [
    "def replace_with_space(matchobj):\n",
    "    return \" \"\n",
    "\n",
    "def construct_marked_set(new_content):\n",
    "    CRIT_LENGTH_LIMIT = 100\n",
    "    result = np.zeros(4).reshape(1,4)\n",
    "#    rep_pattern = re.compile(r\"((Summary|Experience|Education)|[^A-Za-z0-9\\s])\")\n",
    "    rep_pattern = re.compile(r\"([^A-Za-z0-9\\s])\")\n",
    "    category = 1\n",
    "    for string in new_content:\n",
    "        a = re.sub(rep_pattern, replace_with_space, string)\n",
    "        cumulative_str = ''\n",
    "        for substr in a.split('\\n'):\n",
    "            cumulative_str += substr + ' '\n",
    "            if(len(cumulative_str) > CRIT_LENGTH_LIMIT):\n",
    "                result = np.append(result, np.asarray([cumulative_str, category, 0, -300000.0]).reshape(1,4), axis=0)\n",
    "                cumulative_str = ''\n",
    "        if(len(cumulative_str) > 2):\n",
    "                result = np.append(result, np.asarray([cumulative_str, category, 0, -300000.0]).reshape(1,4), axis=0)\n",
    "        category += 1\n",
    "    return result[1:]\n",
    "\n",
    "def construct_marked_set_KL(new_content):\n",
    "    CRIT_LENGTH_LIMIT = 100\n",
    "    result = np.zeros(4).reshape(1,4)\n",
    "#    rep_pattern = re.compile(r\"((Summary|Experience|Education)|[^A-Za-z0-9\\s])\")\n",
    "    rep_pattern = re.compile(r\"([^A-Za-z0-9\\s])\")\n",
    "    category = 1\n",
    "    for string in new_content:\n",
    "        a = re.sub(rep_pattern, replace_with_space, string)\n",
    "        cumulative_str = ''\n",
    "        for substr in a.split('\\n'):\n",
    "            cumulative_str += substr + ' '\n",
    "            if(len(cumulative_str) > CRIT_LENGTH_LIMIT):\n",
    "                str_cnt_dct = create_dct_from_string(cumulative_str)\n",
    "                str_prb_dict = calc_probs(str_cnt_dct)\n",
    "                result = np.append(result, np.asarray([str_prb_dict, category, 0, m.inf]).reshape(1,4), axis=0)\n",
    "                cumulative_str = ''\n",
    "        if(len(cumulative_str) > 2):\n",
    "                str_cnt_dct = create_dct_from_string(cumulative_str)\n",
    "                str_prb_dict = calc_probs(str_cnt_dct)\n",
    "                result = np.append(result, np.asarray([str_prb_dict, category, 0, m.inf]).reshape(1,4), axis=0)\n",
    "        category += 1\n",
    "    return result[1:]"
   ]
  },
  {
   "cell_type": "code",
   "execution_count": 54,
   "metadata": {
    "collapsed": true
   },
   "outputs": [],
   "source": [
    "test_set = construct_marked_set([smr_test_content, edu_test_content, exp_test_content])\n",
    "test_set_KL = construct_marked_set_KL([smr_test_content, edu_test_content, exp_test_content])"
   ]
  },
  {
   "cell_type": "code",
   "execution_count": 55,
   "metadata": {
    "collapsed": true
   },
   "outputs": [],
   "source": [
    "# precision, recall, F1-score\n",
    "def quality_assessment(a, b, ctgr):\n",
    "    b_correct = ((a.astype(int) == b.astype(int)) * a.astype(int)==ctgr).sum()\n",
    "    b_attempts = ((b.astype(int) == ctgr)).sum()\n",
    "    a_total = ((a.astype(int) == ctgr)).sum()\n",
    "    if b_attempts == 0:\n",
    "        return 0, 0, 0\n",
    "    prec = b_correct/b_attempts\n",
    "    rcll = b_correct/a_total\n",
    "    f_one = 2*prec*rcll/(prec+rcll)\n",
    "#    print ('precision = %f' %prec)\n",
    "#    print ('recall =', rcll)\n",
    "#    print ('F1-score =', f_one)\n",
    "    return prec, rcll, f_one"
   ]
  },
  {
   "cell_type": "code",
   "execution_count": 56,
   "metadata": {
    "collapsed": true
   },
   "outputs": [],
   "source": [
    "import math as m\n",
    "from nltk.stem.snowball import SnowballStemmer\n",
    "def calculate_ML(string, dct, corp_dct, prb_segment):\n",
    "    stemmer = SnowballStemmer('english')\n",
    "    month_expr = re.compile(r\"(jan(uary|\\.|)|feb(ruary|\\.|)|mar(ch|\\.|)|apr(il|\\.|)|may(\\.|)|jun(e|\\.|)|jul(y|\\.|)|aug(ust|\\.|)|sep(tember|\\.|)|oct(ober|\\.|)|nov(ember|\\.|)|dec(ember|\\.|))\")\n",
    "    year_expr = re.compile(r\"((19|20)\\d\\d|'?\\d\\d)\")\n",
    "    num = 1.0\n",
    "    den = 1.0\n",
    "    result = .0\n",
    "    for word in string.split():\n",
    "        wrd = word.casefold()\n",
    "        if re.fullmatch(year_expr, wrd):\n",
    "            wrd = '!year'\n",
    "        elif re.fullmatch(month_expr, wrd):\n",
    "            wrd = '!month'\n",
    "        else:\n",
    "             wrd = stemmer.stem(wrd)\n",
    "        #print(wrd)\n",
    "        if wrd in dct:# and wrd in corp_dct:\n",
    "            num *= dct[wrd]\n",
    "            den *= corp_dct[wrd]\n",
    "            result += m.log2(prb_segment*num/den)\n",
    "        else:\n",
    "            result += m.log2(1e-300)\n",
    "    #print(num)\n",
    "    #print(den)\n",
    "    return result\n",
    "\n",
    "def calculate_KL_risk(query_model, doc_model):\n",
    "    result = 0\n",
    "    for key in query_model.keys():\n",
    "        log_ = 0\n",
    "        if key in doc_model:\n",
    "            log_ = m.log2(query_model[key]/doc_model[key])\n",
    "        else:\n",
    "            log_ = m.log2(1e+300)\n",
    "        result += query_model[key]*log_\n",
    "    return result\n",
    "    \n",
    "def test_algorithm(test_set, dictionaries, corpus_dict):\n",
    "    local_test_set = test_set.copy()\n",
    "    #likelihoods = np.zeros(len(dictionaries))\n",
    "    prb_corpus = calc_probs(corpus_dict)\n",
    "    i=0\n",
    "    for a_dict in dictionaries:\n",
    "        prb_segment = sumDictValues(a_dict) / sumDictValues(corpus_dict)\n",
    "        print('Segment ' + repr(i+1) + ' portion in the dictionary ' + repr(prb_segment))\n",
    "        prb_dict = calc_probs(a_dict)\n",
    "        for line in local_test_set:\n",
    "#                print('new_like')\n",
    "#                print(line[0] + \"ttteeest\")\n",
    "            likelihood = calculate_ML(line[0], prb_dict, prb_corpus, prb_segment)\n",
    "            if likelihood > np.float(line[3]):\n",
    "                line[3] = likelihood\n",
    "                line[2] = i+1\n",
    "        i+=1\n",
    "#    prc, recall, f_one_score = quality_assessment(local_test_set[:,1], local_test_set[:,2], 3)\n",
    "    F1_score_array = np.array([])\n",
    "    F1_score_array = np.append(F1_score_array, quality_assessment(local_test_set[:,1], local_test_set[:,2], 1)[2])\n",
    "    F1_score_array = np.append(F1_score_array, quality_assessment(local_test_set[:,1], local_test_set[:,2], 2)[2])\n",
    "    F1_score_array = np.append(F1_score_array, quality_assessment(local_test_set[:,1], local_test_set[:,2], 3)[2])\n",
    "    f_one_score = np.mean(F1_score_array)\n",
    "    return f_one_score, local_test_set\n",
    "\n",
    "def test_algorithm_w_KL(test_set_KL, dictionaries):\n",
    "    local_test_set = test_set_KL.copy()\n",
    "    #likelihoods = np.zeros(len(dictionaries))\n",
    "    i=0\n",
    "    for a_dict in dictionaries:\n",
    "        prb_dict = calc_probs(a_dict)\n",
    "        for line in local_test_set:\n",
    "            risk = calculate_KL_risk(line[0], prb_dict)\n",
    "            if risk < np.float(abs(line[3])):\n",
    "                line[3] = risk\n",
    "                line[2] = i+1\n",
    "        i+=1\n",
    "    F1_score_array = np.array([])\n",
    "    F1_score_array = np.append(F1_score_array, quality_assessment(local_test_set[:,1], local_test_set[:,2], 1)[2])\n",
    "    F1_score_array = np.append(F1_score_array, quality_assessment(local_test_set[:,1], local_test_set[:,2], 2)[2])\n",
    "    F1_score_array = np.append(F1_score_array, quality_assessment(local_test_set[:,1], local_test_set[:,2], 3)[2])\n",
    "    f_one_score = np.mean(F1_score_array)\n",
    "    return f_one_score, local_test_set"
   ]
  },
  {
   "cell_type": "code",
   "execution_count": 57,
   "metadata": {},
   "outputs": [
    {
     "data": {
      "text/plain": [
       "271.04011196947175"
      ]
     },
     "execution_count": 57,
     "metadata": {},
     "output_type": "execute_result"
    }
   ],
   "source": [
    "calculate_KL_risk(test_set_KL[0,0], sum_prb)"
   ]
  },
  {
   "cell_type": "code",
   "execution_count": 58,
   "metadata": {},
   "outputs": [
    {
     "data": {
      "text/plain": [
       "157.4111063458181"
      ]
     },
     "execution_count": 58,
     "metadata": {},
     "output_type": "execute_result"
    }
   ],
   "source": [
    "calculate_KL_risk(test_set_KL[0,0], xprnc_prb)"
   ]
  },
  {
   "cell_type": "code",
   "execution_count": 59,
   "metadata": {},
   "outputs": [
    {
     "data": {
      "text/plain": [
       "652.8204350029671"
      ]
     },
     "execution_count": 59,
     "metadata": {},
     "output_type": "execute_result"
    }
   ],
   "source": [
    "calculate_KL_risk(test_set_KL[0,0], edctn_prb)"
   ]
  },
  {
   "cell_type": "code",
   "execution_count": 60,
   "metadata": {},
   "outputs": [
    {
     "name": "stdout",
     "output_type": "stream",
     "text": [
      "Segment 1 portion in the dictionary 0.1674347158218126\n",
      "Segment 2 portion in the dictionary 0.1455879842976617\n",
      "Segment 3 portion in the dictionary 0.6869772998805257\n",
      "0.666099257312\n"
     ]
    }
   ],
   "source": [
    "f1_score, result_test_set_ML = test_algorithm(test_set, [sum_dct, edctn_dct, xprnc_dct], whole_dict)\n",
    "print(f1_score)"
   ]
  },
  {
   "cell_type": "code",
   "execution_count": 61,
   "metadata": {},
   "outputs": [
    {
     "name": "stdout",
     "output_type": "stream",
     "text": [
      "0.67010771449\n"
     ]
    }
   ],
   "source": [
    "f1_score, result_test_set_KL = test_algorithm_w_KL(test_set_KL, [sum_dct, edctn_dct, xprnc_dct])\n",
    "print(f1_score)"
   ]
  },
  {
   "cell_type": "code",
   "execution_count": 62,
   "metadata": {},
   "outputs": [
    {
     "data": {
      "text/plain": [
       "array([['1', '3', '-4075.036620161563'],\n",
       "       ['1', '3', '-6973.657129319131'],\n",
       "       ['1', '3', '-2987.1072239231726'],\n",
       "       ['1', '1', '-5768.094775741681'],\n",
       "       ['1', '3', '-1985.7431576726995'],\n",
       "       ['1', '3', '-5975.386188162497'],\n",
       "       ['1', '3', '-983.6343162679353'],\n",
       "       ['1', '3', '-3976.928955386668'],\n",
       "       ['1', '1', '-4668.526760093729'],\n",
       "       ['1', '3', '-4105.109597297142'],\n",
       "       ['1', '1', '-3871.722754628121'],\n",
       "       ['1', '1', '-1822.9117889268123'],\n",
       "       ['1', '1', '-6967.978296766264'],\n",
       "       ['1', '1', '-10932.356081109712'],\n",
       "       ['1', '3', '-8001.081281184769']], \n",
       "      dtype='<U209')"
      ]
     },
     "execution_count": 62,
     "metadata": {},
     "output_type": "execute_result"
    }
   ],
   "source": [
    "result_test_set_ML[:15,1:]"
   ]
  },
  {
   "cell_type": "code",
   "execution_count": 63,
   "metadata": {},
   "outputs": [
    {
     "data": {
      "text/plain": [
       "array([[1, 3, 157.4111063458181],\n",
       "       [1, 3, 252.41005864424997],\n",
       "       [1, 3, 146.5480784404526],\n",
       "       [1, 1, 241.7914282715897],\n",
       "       [1, 1, 121.56307973557337],\n",
       "       [1, 3, 377.83431743390906],\n",
       "       [1, 3, 51.7160418499387],\n",
       "       [1, 3, 238.8440002313848],\n",
       "       [1, 1, 154.33595346756894],\n",
       "       [1, 3, 193.54874174220168],\n",
       "       [1, 1, 184.65024385945318],\n",
       "       [1, 1, 114.82562927314541],\n",
       "       [1, 1, 389.981785147974],\n",
       "       [1, 1, 578.6081308142208],\n",
       "       [1, 3, 472.41410186260623]], dtype=object)"
      ]
     },
     "execution_count": 63,
     "metadata": {},
     "output_type": "execute_result"
    }
   ],
   "source": [
    "result_test_set_KL[:15,1:]"
   ]
  },
  {
   "cell_type": "code",
   "execution_count": 109,
   "metadata": {},
   "outputs": [
    {
     "data": {
      "text/plain": [
       "34"
      ]
     },
     "execution_count": 109,
     "metadata": {},
     "output_type": "execute_result"
    }
   ],
   "source": [
    "(result_test_set_KL[:,2] == 2).sum()"
   ]
  },
  {
   "cell_type": "code",
   "execution_count": 110,
   "metadata": {},
   "outputs": [
    {
     "data": {
      "text/plain": [
       "(array([41, 42, 44, 45, 47, 49, 50, 51, 52, 53, 54, 55, 56, 57, 58, 59, 60,\n",
       "        61, 63, 64, 65, 66, 67, 68, 71, 72, 73, 74, 75, 76, 77, 78, 82, 91]),)"
      ]
     },
     "execution_count": 110,
     "metadata": {},
     "output_type": "execute_result"
    }
   ],
   "source": [
    "np.where(result_test_set_KL[:,2] == 2)"
   ]
  },
  {
   "cell_type": "code",
   "execution_count": 17,
   "metadata": {},
   "outputs": [
    {
     "name": "stdout",
     "output_type": "stream",
     "text": [
      "[[15  2 27]\n",
      " [ 0 30  6]\n",
      " [ 3  2 98]]\n"
     ]
    }
   ],
   "source": [
    "print(confusion_matrix(result_test_set[:,1], result_test_set[:,2]))"
   ]
  },
  {
   "cell_type": "markdown",
   "metadata": {},
   "source": [
    "# Probability smoothing"
   ]
  },
  {
   "cell_type": "code",
   "execution_count": 18,
   "metadata": {
    "collapsed": true
   },
   "outputs": [],
   "source": [
    "def jelin_merc_smoothing(segm_dict, corpus_dict, lmbd):\n",
    "    result_dct = dict()\n",
    "    prb_dict = calc_probs(segm_dict)\n",
    "    for key in corpus_dict.keys():\n",
    "        if key in segm_dict:\n",
    "            result_dct[key] = (1-lmbd)*prb_dict[key] + lmbd*corpus_dict[key]\n",
    "        else:\n",
    "            result_dct[key] = lmbd*corpus_dict[key]\n",
    "    return result_dct\n",
    "\n",
    "def dirichlet_smoothing(segm_dict, corpus_dict, mu):\n",
    "    result_dct = dict()\n",
    "    #d = len(segm_dict.keys())\n",
    "    d = sumDictValues(segm_dict)\n",
    "    for key in corpus_dict.keys():\n",
    "        if key in segm_dict:\n",
    "            result_dct[key] = segm_dict[key]/(d+mu) + mu/(d+mu)*corpus_dict[key]\n",
    "        else:\n",
    "            result_dct[key] = mu/(d+mu)*corpus_dict[key]\n",
    "    return result_dct"
   ]
  },
  {
   "cell_type": "code",
   "execution_count": 19,
   "metadata": {
    "collapsed": true
   },
   "outputs": [],
   "source": [
    "def test_algorithm_w_smoothing(test_set, dictionaries, corpus_dict, smoothing_method, param):\n",
    "    #likelihoods = np.zeros(len(dictionaries))\n",
    "    local_test_set = test_set.copy()\n",
    "    prb_corpus = calc_probs(corpus_dict)\n",
    "    i=0\n",
    "    for a_dict in dictionaries:\n",
    "        prb_segment = sumDictValues(a_dict) / sumDictValues(corpus_dict)\n",
    "        prb_smoothed = smoothing_method(a_dict, prb_corpus, param)\n",
    "        for line in local_test_set:\n",
    "            likelihood = calculate_ML(line[0], prb_smoothed, prb_corpus, prb_segment)\n",
    "            if likelihood > np.float(line[3]):\n",
    "                line[3] = likelihood\n",
    "                line[2] = i+1\n",
    "        i+=1\n",
    "    F1_score_array = np.array([])\n",
    "    F1_score_array = np.append(F1_score_array, quality_assessment(local_test_set[:,1], local_test_set[:,2], 1)[2])\n",
    "    F1_score_array = np.append(F1_score_array, quality_assessment(local_test_set[:,1], local_test_set[:,2], 2)[2])\n",
    "    F1_score_array = np.append(F1_score_array, quality_assessment(local_test_set[:,1], local_test_set[:,2], 3)[2])\n",
    "    f_one_score = np.mean(F1_score_array)\n",
    "    return f_one_score"
   ]
  },
  {
   "cell_type": "code",
   "execution_count": 20,
   "metadata": {
    "collapsed": true
   },
   "outputs": [],
   "source": [
    "def analyze_lmbd(test_set, dictionaries, corpus_dict):\n",
    "    lmbd_arr = np.linspace(0,1,10)\n",
    "    lmbd_arr[0] = 1e-10\n",
    "    f_score_arr = np.zeros(lmbd_arr.size)\n",
    "    for i in range(len(lmbd_arr)):\n",
    "        f_score_arr[i] = test_algorithm_w_smoothing(test_set, dictionaries, corpus_dict, jelin_merc_smoothing, lmbd_arr[i])\n",
    "    print('F1-score array: {}'.format(f_score_arr))\n",
    "    print('Max F-score={} at lambda = {}'.format(np.max(f_score_arr), lmbd_arr[np.argmax(f_score_arr)]))\n",
    "    return lmbd_arr, f_score_arr"
   ]
  },
  {
   "cell_type": "code",
   "execution_count": 21,
   "metadata": {},
   "outputs": [
    {
     "name": "stdout",
     "output_type": "stream",
     "text": [
      "F1-score array: [ 0.69528925  0.76007326  0.75318532  0.76180011  0.76180011  0.75681744\n",
      "  0.76568665  0.72086629  0.59744921  0.24009324]\n",
      "Max F-score=0.7656866545968727 at lambda = 0.6666666666666666\n"
     ]
    },
    {
     "data": {
      "image/png": "[encoded data removed]",
      "text/plain": [
       "<matplotlib.figure.Figure at 0x7f0a52ba0e48>"
      ]
     },
     "metadata": {},
     "output_type": "display_data"
    }
   ],
   "source": [
    "lambdas, f_scores = analyze_lmbd(test_set, [sum_dct, edctn_dct, xprnc_dct], whole_dict)\n",
    "\n",
    "fig = plt.figure(figsize=[15,10])\n",
    "plt.plot(lambdas, f_scores)\n",
    "plt.grid()\n",
    "plt.show()"
   ]
  },
  {
   "cell_type": "code",
   "execution_count": 22,
   "metadata": {
    "collapsed": true
   },
   "outputs": [],
   "source": [
    "def analyze_mu(test_set, dictionaries, corpus_dict):\n",
    "    mu_arr = np.geomspace(.1,100000,num=100)\n",
    "    f_score_arr = np.zeros(mu_arr.size)\n",
    "    for i in range(len(mu_arr)):\n",
    "        f_score_arr[i] = test_algorithm_w_smoothing(test_set, dictionaries, corpus_dict, dirichlet_smoothing, mu_arr[i])\n",
    "    print('F1-score array: {}'.format(f_score_arr))\n",
    "    print('Max F-score={} at u={}'.format(np.max(f_score_arr), mu_arr[np.argmax(f_score_arr)]))\n",
    "    return mu_arr, f_score_arr"
   ]
  },
  {
   "cell_type": "code",
   "execution_count": 23,
   "metadata": {
    "scrolled": true
   },
   "outputs": [
    {
     "name": "stdout",
     "output_type": "stream",
     "text": [
      "F1-score array: [ 0.72045834  0.7331628   0.7331628   0.7331628   0.7331628   0.7331628\n",
      "  0.7331628   0.74921818  0.74921818  0.74921818  0.75884102  0.75884102\n",
      "  0.75884102  0.75884102  0.75455315  0.75455315  0.75455315  0.75455315\n",
      "  0.76061104  0.76061104  0.76061104  0.76655348  0.76655348  0.77585054\n",
      "  0.77585054  0.77585054  0.77585054  0.77585054  0.78490821  0.78490821\n",
      "  0.78490821  0.78490821  0.78490821  0.78490821  0.78490821  0.78490821\n",
      "  0.78490821  0.78490821  0.77914202  0.77914202  0.77914202  0.77914202\n",
      "  0.78797036  0.78797036  0.78797036  0.78528228  0.78528228  0.78528228\n",
      "  0.77644231  0.77644231  0.78080178  0.78935639  0.78935639  0.78376129\n",
      "  0.78376129  0.77926528  0.77926528  0.77926528  0.77483412  0.78306014\n",
      "  0.76798942  0.76562077  0.76562077  0.76023967  0.78427547  0.77895876\n",
      "  0.77895876  0.77895876  0.78353964  0.77830688  0.77313798  0.77313798\n",
      "  0.77041713  0.77830688  0.77830688  0.77502246  0.77502246  0.76690092\n",
      "  0.77151234  0.76314111  0.76775693  0.75351296  0.74940129  0.74959277\n",
      "  0.74205989  0.7413729   0.73664896  0.70701314  0.7097859   0.677201\n",
      "  0.6249872   0.60758717  0.58005319  0.53568953  0.4848702   0.43911765\n",
      "  0.41727494  0.38122744  0.27687176  0.25895369]\n",
      "Max F-score=0.7893563854933477 at u=123.28467394420659\n"
     ]
    },
    {
     "data": {
      "image/png": "[encoded data removed]",
      "text/plain": [
       "<matplotlib.figure.Figure at 0x7f0a4f835240>"
      ]
     },
     "metadata": {},
     "output_type": "display_data"
    }
   ],
   "source": [
    "mus, f_scores = analyze_mu(test_set, [sum_dct, edctn_dct, xprnc_dct], whole_dict)\n",
    "\n",
    "fig = plt.figure(figsize=[15,10])\n",
    "plt.semilogx()\n",
    "plt.plot(mus, f_scores)\n",
    "plt.grid()\n",
    "plt.show()"
   ]
  },
  {
   "cell_type": "code",
   "execution_count": 24,
   "metadata": {
    "collapsed": true
   },
   "outputs": [],
   "source": [
    "def loo_smoothing(segm_cnt_dict, corpus_prb_dict, mu):\n",
    "    result_dct = dict()\n",
    "    #d = len(segm_dict.keys())\n",
    "    d = sumDictValues(segm_cnt_dict) - 1\n",
    "    for key in corpus_prb_dict.keys():\n",
    "        if key in segm_cnt_dict:\n",
    "            result_dct[key] = segm_cnt_dict[key]*np.log2((segm_cnt_dict[key] - 1 + mu*corpus_prb_dict[key])/(d-1+mu))\n",
    "        else:\n",
    "            result_dct[key] = 0\n",
    "    return result_dct"
   ]
  },
  {
   "cell_type": "code",
   "execution_count": 25,
   "metadata": {},
   "outputs": [
    {
     "name": "stdout",
     "output_type": "stream",
     "text": [
      "171916.903012\n"
     ]
    }
   ],
   "source": [
    "def profit_function(u_param, doc_cnt_dcts, corp_prb_dct):\n",
    "    profit = 0\n",
    "    for dct in doc_cnt_dcts:\n",
    "#         print(len(loo_smoothing(dct, corp_prb_dct, u_param)))\n",
    "        profit += sumDictValues(loo_smoothing(dct, corp_prb_dct, u_param))\n",
    "    return -profit\n",
    "    \n",
    "\n",
    "print(profit_function(55000, [sum_dct, edctn_dct, xprnc_dct], whole_dict_prb))\n",
    "\n",
    "pfvec = np.vectorize(profit_function, excluded=[1,2])"
   ]
  },
  {
   "cell_type": "code",
   "execution_count": 26,
   "metadata": {},
   "outputs": [
    {
     "data": {
      "image/png": "[encoded data removed]",
      "text/plain": [
       "<matplotlib.figure.Figure at 0x7f0a4ef76208>"
      ]
     },
     "metadata": {},
     "output_type": "display_data"
    }
   ],
   "source": [
    "mu_ary = np.geomspace(.1, 1000000, num=100)\n",
    "prf_ary = pfvec(mu_ary, [sum_dct, edctn_dct, xprnc_dct], whole_dict_prb)\n",
    "fig, ax = plt.subplots(figsize=[4.5,3])\n",
    "plt.semilogx()\n",
    "plt.plot(mu_ary, prf_ary)\n",
    "plt.grid()\n",
    "plt.show()"
   ]
  },
  {
   "cell_type": "code",
   "execution_count": 27,
   "metadata": {
    "collapsed": true
   },
   "outputs": [],
   "source": [
    "init_mu = np.zeros(1)+1e-30\n",
    "mu_cnvg = optimize.minimize(profit_function, init_mu, args=([sum_dct, edctn_dct, xprnc_dct], whole_dict_prb), method='Nelder-Mead', options={'maxiter':5000}, tol=1e-30)"
   ]
  },
  {
   "cell_type": "code",
   "execution_count": 28,
   "metadata": {},
   "outputs": [
    {
     "name": "stdout",
     "output_type": "stream",
     "text": [
      " final_simplex: (array([[ 15872.44329757],\n",
      "       [ 15872.44329757]]), array([ 171816.36760442,  171816.36760442]))\n",
      "           fun: 171816.36760441668\n",
      "       message: 'Optimization terminated successfully.'\n",
      "          nfev: 372\n",
      "           nit: 174\n",
      "        status: 0\n",
      "       success: True\n",
      "             x: array([ 15872.44329757])\n"
     ]
    }
   ],
   "source": [
    "print(mu_cnvg)"
   ]
  },
  {
   "cell_type": "code",
   "execution_count": 29,
   "metadata": {},
   "outputs": [
    {
     "data": {
      "text/plain": [
       "0.73664896305549654"
      ]
     },
     "execution_count": 29,
     "metadata": {},
     "output_type": "execute_result"
    }
   ],
   "source": [
    "#leave-one-out\n",
    "test_algorithm_w_smoothing(test_set, [sum_dct, edctn_dct, xprnc_dct], whole_dict, dirichlet_smoothing, mu_cnvg.x)"
   ]
  },
  {
   "cell_type": "code",
   "execution_count": 30,
   "metadata": {},
   "outputs": [
    {
     "data": {
      "text/plain": [
       "0.74959276727521651"
      ]
     },
     "execution_count": 30,
     "metadata": {},
     "output_type": "execute_result"
    }
   ],
   "source": [
    "#empirical evaluation\n",
    "test_algorithm_w_smoothing(test_set, [sum_dct, edctn_dct, xprnc_dct], whole_dict, dirichlet_smoothing, 10723)"
   ]
  },
  {
   "cell_type": "markdown",
   "metadata": {},
   "source": [
    "# Testing on Other folder"
   ]
  },
  {
   "cell_type": "code",
   "execution_count": 23,
   "metadata": {
    "collapsed": true
   },
   "outputs": [],
   "source": [
    "# Extract test set from 'other' folder\n",
    "file_number_in_folder=6\n",
    "extract.extract_other_pdfs(file_number_in_folder)"
   ]
  },
  {
   "cell_type": "code",
   "execution_count": 24,
   "metadata": {
    "collapsed": true
   },
   "outputs": [],
   "source": [
    "# Test data generation\n",
    "other_test_content = open('test_other.txt', 'r').read()"
   ]
  },
  {
   "cell_type": "code",
   "execution_count": 169,
   "metadata": {},
   "outputs": [
    {
     "data": {
      "text/plain": [
       "'Stefan Petranek  78 Vermont Street Rochester, NY 14609     spetrane@yahoo\\n.com     (585) 256 0296   '"
      ]
     },
     "execution_count": 169,
     "metadata": {},
     "output_type": "execute_result"
    }
   ],
   "source": [
    "# Head of selected CV\n",
    "other_test_content[:100]"
   ]
  },
  {
   "cell_type": "code",
   "execution_count": 53,
   "metadata": {
    "collapsed": true
   },
   "outputs": [],
   "source": [
    "test_set_other = construct_marked_set([other_test_content])"
   ]
  },
  {
   "cell_type": "code",
   "execution_count": 54,
   "metadata": {},
   "outputs": [
    {
     "name": "stdout",
     "output_type": "stream",
     "text": [
      "Segment 1 portion in the dictionary 0.17029628434693767\n"
     ]
    },
    {
     "ename": "ValueError",
     "evalue": "math domain error",
     "output_type": "error",
     "traceback": [
      "\u001b[0;31m---------------------------------------------------------------------------\u001b[0m",
      "\u001b[0;31mValueError\u001b[0m                                Traceback (most recent call last)",
      "\u001b[0;32m<ipython-input-54-f6d02ef25290>\u001b[0m in \u001b[0;36m<module>\u001b[0;34m()\u001b[0m\n\u001b[0;32m----> 1\u001b[0;31m \u001b[0mtest_algorithm\u001b[0m\u001b[0;34m(\u001b[0m\u001b[0mtest_set_other\u001b[0m\u001b[0;34m,\u001b[0m \u001b[0;34m[\u001b[0m\u001b[0msum_dct\u001b[0m\u001b[0;34m,\u001b[0m \u001b[0medctn_dct\u001b[0m\u001b[0;34m,\u001b[0m \u001b[0mxprnc_dct\u001b[0m\u001b[0;34m]\u001b[0m\u001b[0;34m,\u001b[0m \u001b[0mwhole_dict\u001b[0m\u001b[0;34m)\u001b[0m\u001b[0;34m\u001b[0m\u001b[0m\n\u001b[0m",
      "\u001b[0;32m<ipython-input-45-7656d9b964b1>\u001b[0m in \u001b[0;36mtest_algorithm\u001b[0;34m(test_set, dictionaries, corpus_dict)\u001b[0m\n\u001b[1;32m     37\u001b[0m \u001b[0;31m#                print('new_like')\u001b[0m\u001b[0;34m\u001b[0m\u001b[0;34m\u001b[0m\u001b[0m\n\u001b[1;32m     38\u001b[0m \u001b[0;31m#                print(line[0] + \"ttteeest\")\u001b[0m\u001b[0;34m\u001b[0m\u001b[0;34m\u001b[0m\u001b[0m\n\u001b[0;32m---> 39\u001b[0;31m                 \u001b[0mlikelihood\u001b[0m \u001b[0;34m=\u001b[0m \u001b[0mcalculate_likelihood\u001b[0m\u001b[0;34m(\u001b[0m\u001b[0mline\u001b[0m\u001b[0;34m[\u001b[0m\u001b[0;36m0\u001b[0m\u001b[0;34m]\u001b[0m\u001b[0;34m,\u001b[0m \u001b[0mprb_dict\u001b[0m\u001b[0;34m,\u001b[0m \u001b[0mprb_corpus\u001b[0m\u001b[0;34m,\u001b[0m \u001b[0mprb_segment\u001b[0m\u001b[0;34m)\u001b[0m\u001b[0;34m\u001b[0m\u001b[0m\n\u001b[0m\u001b[1;32m     40\u001b[0m                 \u001b[0;32mif\u001b[0m \u001b[0mlikelihood\u001b[0m \u001b[0;34m>\u001b[0m \u001b[0mnp\u001b[0m\u001b[0;34m.\u001b[0m\u001b[0mfloat\u001b[0m\u001b[0;34m(\u001b[0m\u001b[0mline\u001b[0m\u001b[0;34m[\u001b[0m\u001b[0;36m3\u001b[0m\u001b[0;34m]\u001b[0m\u001b[0;34m)\u001b[0m\u001b[0;34m:\u001b[0m\u001b[0;34m\u001b[0m\u001b[0m\n\u001b[1;32m     41\u001b[0m                     \u001b[0mline\u001b[0m\u001b[0;34m[\u001b[0m\u001b[0;36m3\u001b[0m\u001b[0;34m]\u001b[0m \u001b[0;34m=\u001b[0m \u001b[0mlikelihood\u001b[0m\u001b[0;34m\u001b[0m\u001b[0m\n",
      "\u001b[0;32m<ipython-input-45-7656d9b964b1>\u001b[0m in \u001b[0;36mcalculate_likelihood\u001b[0;34m(string, dct, corp_dct, prb_segment)\u001b[0m\n\u001b[1;32m     20\u001b[0m             \u001b[0mnum\u001b[0m \u001b[0;34m*=\u001b[0m \u001b[0mdct\u001b[0m\u001b[0;34m[\u001b[0m\u001b[0mwrd\u001b[0m\u001b[0;34m]\u001b[0m\u001b[0;34m\u001b[0m\u001b[0m\n\u001b[1;32m     21\u001b[0m             \u001b[0mden\u001b[0m \u001b[0;34m*=\u001b[0m \u001b[0mcorp_dct\u001b[0m\u001b[0;34m[\u001b[0m\u001b[0mwrd\u001b[0m\u001b[0;34m]\u001b[0m\u001b[0;34m\u001b[0m\u001b[0m\n\u001b[0;32m---> 22\u001b[0;31m             \u001b[0mresult\u001b[0m \u001b[0;34m+=\u001b[0m \u001b[0mm\u001b[0m\u001b[0;34m.\u001b[0m\u001b[0mlog2\u001b[0m\u001b[0;34m(\u001b[0m\u001b[0mprb_segment\u001b[0m\u001b[0;34m*\u001b[0m\u001b[0mnum\u001b[0m\u001b[0;34m/\u001b[0m\u001b[0mden\u001b[0m\u001b[0;34m)\u001b[0m\u001b[0;34m\u001b[0m\u001b[0m\n\u001b[0m\u001b[1;32m     23\u001b[0m     \u001b[0;31m#print(num)\u001b[0m\u001b[0;34m\u001b[0m\u001b[0;34m\u001b[0m\u001b[0m\n\u001b[1;32m     24\u001b[0m     \u001b[0;31m#print(den)\u001b[0m\u001b[0;34m\u001b[0m\u001b[0;34m\u001b[0m\u001b[0m\n",
      "\u001b[0;31mValueError\u001b[0m: math domain error"
     ]
    }
   ],
   "source": [
    "test_algorithm(test_set_other, [sum_dct, edctn_dct, xprnc_dct], whole_dict)"
   ]
  },
  {
   "cell_type": "code",
   "execution_count": 172,
   "metadata": {
    "collapsed": true
   },
   "outputs": [],
   "source": [
    "def print_recognition_results(test_set):\n",
    "    category=''\n",
    "    for line in test_set:\n",
    "        if line[2] == '1':\n",
    "            category = 'Summary'\n",
    "        elif line[2] == '2':\n",
    "            category = 'Education'\n",
    "        else:\n",
    "            category = 'Experience'\n",
    "        print(line[0][:50] + '...\\t\\t' + category)"
   ]
  }
 ],
 "metadata": {
  "kernelspec": {
   "display_name": "Python 3",
   "language": "python",
   "name": "python3"
  },
  "language_info": {
   "codemirror_mode": {
    "name": "ipython",
    "version": 3
   },
   "file_extension": ".py",
   "mimetype": "text/x-python",
   "name": "python",
   "nbconvert_exporter": "python",
   "pygments_lexer": "ipython3",
   "version": "3.6.1"
  }
 },
 "nbformat": 4,
 "nbformat_minor": 2
}
