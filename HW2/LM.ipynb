{
 "cells": [
  {
   "cell_type": "code",
   "execution_count": 40,
   "metadata": {
    "collapsed": true
   },
   "outputs": [],
   "source": [
    "## Import lib for extracting training set from pdfs\n",
    "import extract\n",
    "import importlib\n",
    "importlib.reload(extract)\n",
    "import numpy as np\n",
    "from sklearn.metrics import classification_report, confusion_matrix\n",
    "import matplotlib.pyplot as plt\n",
    "from matplotlib.axes import Axes\n",
    "from scipy import optimize"
   ]
  },
  {
   "cell_type": "code",
   "execution_count": 43,
   "metadata": {
    "collapsed": true
   },
   "outputs": [],
   "source": [
    "# from file containing all segments of a particular type in the training set construct an array \n",
    "# storing sements of different CVs into separate elements\n",
    "def string_list(s_term, s_str):\n",
    "    result = []\n",
    "    crnt_ptr = s_str.find(s_term) + len(s_term)\n",
    "    scd_term_index=s_str.find(s_term, crnt_ptr)\n",
    "    while (scd_term_index>=0):\n",
    "        # count only significantly large segments \n",
    "        if (scd_term_index-crnt_ptr>9):\n",
    "            result.append(s_term + ' ' + s_str[crnt_ptr:scd_term_index])\n",
    "        crnt_ptr = scd_term_index + len(s_term)\n",
    "        scd_term_index=s_str.find(s_term, crnt_ptr)\n",
    "    return result"
   ]
  },
  {
   "cell_type": "code",
   "execution_count": 45,
   "metadata": {
    "collapsed": true
   },
   "outputs": [],
   "source": [
    "# Run through an array containing all segments on a particular topic from the whole training set\n",
    "# Stem words, replace specific terms (like dates etc.) by a reserved token\n",
    "# Costruct a dictionary from the words so processed \n",
    "import re\n",
    "from nltk.stem.snowball import SnowballStemmer\n",
    "\n",
    "def create_dictionary(topic_list):\n",
    "    month_expr = re.compile(r\"(jan(uary|\\.|)|feb(ruary|\\.|)|mar(ch|\\.|)|apr(il|\\.|)|may(\\.|)|jun(e|\\.|)|jul(y|\\.|)|aug(ust|\\.|)|sep(tember|\\.|)|oct(ober|\\.|)|nov(ember|\\.|)|dec(ember|\\.|))\")\n",
    "    year_expr = re.compile(r\"((19|20)\\d\\d|'?\\d\\d)\")\n",
    "    result = dict()\n",
    "    stemmer = SnowballStemmer('english')\n",
    "    for string in topic_list:\n",
    "        # split a certain CV part into words and filter blanks out\n",
    "        a = re.split('[^0-9A-Za-z]', string)\n",
    "        a=list(filter(lambda x: x!='', a))\n",
    "        for i in range(len(a)):\n",
    "            a[i] = a[i].casefold()\n",
    "            if re.fullmatch(year_expr, a[i]):\n",
    "                a[i] = '!year'\n",
    "            elif re.fullmatch(month_expr, a[i]):\n",
    "                a[i] = '!month'\n",
    "            else:\n",
    "                a[i] = stemmer.stem(a[i])\n",
    "            if (a[i] in result):\n",
    "                result[a[i]] += 1\n",
    "            else:\n",
    "                result[a[i]] = 1\n",
    "                \n",
    "    return result\n",
    "\n",
    "\n",
    "# Same as above with string as an input\n",
    "def create_dct_from_string(string):\n",
    "    month_expr = re.compile(r\"(jan(uary|\\.|)|feb(ruary|\\.|)|mar(ch|\\.|)|apr(il|\\.|)|may(\\.|)|jun(e|\\.|)|jul(y|\\.|)|aug(ust|\\.|)|sep(tember|\\.|)|oct(ober|\\.|)|nov(ember|\\.|)|dec(ember|\\.|))\")\n",
    "    year_expr = re.compile(r\"((19|20)\\d\\d|'?\\d\\d)\")\n",
    "    result = dict()\n",
    "    stemmer = SnowballStemmer('english')\n",
    "    \n",
    "    # split a certain CV part into words and filter blanks out\n",
    "    a = re.split('[^0-9A-Za-z]', string)\n",
    "    a=list(filter(lambda x: x!='', a))\n",
    "    for i in range(len(a)):\n",
    "        a[i] = a[i].casefold()\n",
    "        if re.fullmatch(year_expr, a[i]):\n",
    "            a[i] = '!year'\n",
    "        elif re.fullmatch(month_expr, a[i]):\n",
    "            a[i] = '!month'\n",
    "        else:\n",
    "            a[i] = stemmer.stem(a[i])\n",
    "        if (a[i] in result):\n",
    "            result[a[i]] += 1\n",
    "        else:\n",
    "            result[a[i]] = 1\n",
    "                \n",
    "    return result\n"
   ]
  },
  {
   "cell_type": "code",
   "execution_count": 47,
   "metadata": {
    "collapsed": true
   },
   "outputs": [],
   "source": [
    "# Functions for calculating term frequencies and corpus dictionary creation\n",
    "def concat_dct(d1, d2):\n",
    "    d3 = dict(d1)\n",
    "    for key in d2.keys():\n",
    "        if (key in d3):\n",
    "            d3[key] += d2[key]\n",
    "        else:\n",
    "            d3[key] = d2[key]\n",
    "    return d3\n",
    "\n",
    "def sumDictValues(dctnr):\n",
    "    N = 0\n",
    "    for val in dctnr.values():\n",
    "        N = N + val\n",
    "    return N\n",
    "\n",
    "def calc_probs(dctnr):\n",
    "    prob_dctnr = dict()\n",
    "    tot_size = sumDictValues(dctnr)\n",
    "    for key in dctnr.keys():\n",
    "        prob_dctnr[key] = dctnr[key]/tot_size\n",
    "    return prob_dctnr"
   ]
  },
  {
   "cell_type": "code",
   "execution_count": 53,
   "metadata": {
    "collapsed": true
   },
   "outputs": [],
   "source": [
    "# Construct test data from string containing all segments on particular topic in the test set. \n",
    "#   Store data in an array consisting of ~100-word strings obtained by splitting the input data\n",
    "#   Mark each string with appropriate category\n",
    "#   Add method-specific column for convenience\n",
    "\n",
    "def replace_with_space(matchobj):\n",
    "    return \" \"\n",
    "\n",
    "# For classification with ML method\n",
    "def construct_marked_set(new_content):\n",
    "    CRIT_LENGTH_LIMIT = 100\n",
    "    result = np.zeros(4).reshape(1,4)\n",
    "#    rep_pattern = re.compile(r\"((Summary|Experience|Education)|[^A-Za-z0-9\\s])\")\n",
    "    rep_pattern = re.compile(r\"([^A-Za-z0-9\\s])\")\n",
    "    category = 1\n",
    "    for string in new_content:\n",
    "        a = re.sub(rep_pattern, replace_with_space, string)\n",
    "        cumulative_str = ''\n",
    "        for substr in a.split('\\n'):\n",
    "            cumulative_str += substr + ' '\n",
    "            if(len(cumulative_str) > CRIT_LENGTH_LIMIT):\n",
    "                result = np.append(result, np.asarray([cumulative_str, category, 0, -300000.0]).reshape(1,4), axis=0)\n",
    "                cumulative_str = ''\n",
    "        if(len(cumulative_str) > 2):\n",
    "                result = np.append(result, np.asarray([cumulative_str, category, 0, -300000.0]).reshape(1,4), axis=0)\n",
    "        category += 1\n",
    "    return result[1:]\n",
    "\n",
    "# For classification with KL method\n",
    "def construct_marked_set_KL(new_content):\n",
    "    CRIT_LENGTH_LIMIT = 100\n",
    "    result = np.zeros(4).reshape(1,4)\n",
    "#    rep_pattern = re.compile(r\"((Summary|Experience|Education)|[^A-Za-z0-9\\s])\")\n",
    "    rep_pattern = re.compile(r\"([^A-Za-z0-9\\s])\")\n",
    "    category = 1\n",
    "    for string in new_content:\n",
    "        a = re.sub(rep_pattern, replace_with_space, string)\n",
    "        cumulative_str = ''\n",
    "        for substr in a.split('\\n'):\n",
    "            cumulative_str += substr + ' '\n",
    "            if(len(cumulative_str) > CRIT_LENGTH_LIMIT):\n",
    "                str_cnt_dct = create_dct_from_string(cumulative_str)\n",
    "                str_prb_dict = calc_probs(str_cnt_dct)\n",
    "                result = np.append(result, np.asarray([str_prb_dict, category, 0, m.inf]).reshape(1,4), axis=0)\n",
    "                cumulative_str = ''\n",
    "        if(len(cumulative_str) > 2):\n",
    "                str_cnt_dct = create_dct_from_string(cumulative_str)\n",
    "                str_prb_dict = calc_probs(str_cnt_dct)\n",
    "                result = np.append(result, np.asarray([str_prb_dict, category, 0, m.inf]).reshape(1,4), axis=0)\n",
    "        category += 1\n",
    "    return result[1:]"
   ]
  },
  {
   "cell_type": "code",
   "execution_count": 55,
   "metadata": {
    "collapsed": true
   },
   "outputs": [],
   "source": [
    "# precision, recall, F1-score\n",
    "def quality_assessment(a, b, ctgr):\n",
    "    b_correct = ((a.astype(int) == b.astype(int)) * a.astype(int)==ctgr).sum()\n",
    "    b_attempts = ((b.astype(int) == ctgr)).sum()\n",
    "    a_total = ((a.astype(int) == ctgr)).sum()\n",
    "    if b_attempts == 0:\n",
    "        return 0, 0, 0\n",
    "    prec = b_correct/b_attempts\n",
    "    rcll = b_correct/a_total\n",
    "    f_one = 2*prec*rcll/(prec+rcll)\n",
    "#    print ('precision = %f' %prec)\n",
    "#    print ('recall =', rcll)\n",
    "#    print ('F1-score =', f_one)\n",
    "    return prec, rcll, f_one"
   ]
  },
  {
   "cell_type": "code",
   "execution_count": 18,
   "metadata": {
    "collapsed": true
   },
   "outputs": [],
   "source": [
    "# Smoothing functions\n",
    "\n",
    "def jelin_merc_smoothing(segm_dict, corpus_dict, lmbd):\n",
    "    result_dct = dict()\n",
    "    prb_dict = calc_probs(segm_dict)\n",
    "    for key in corpus_dict.keys():\n",
    "        if key in segm_dict:\n",
    "            result_dct[key] = (1-lmbd)*prb_dict[key] + lmbd*corpus_dict[key]\n",
    "        else:\n",
    "            result_dct[key] = lmbd*corpus_dict[key]\n",
    "    return result_dct\n",
    "\n",
    "def dirichlet_smoothing(segm_dict, corpus_dict, mu):\n",
    "    result_dct = dict()\n",
    "    #d = len(segm_dict.keys())\n",
    "    d = sumDictValues(segm_dict)\n",
    "    for key in corpus_dict.keys():\n",
    "        if key in segm_dict:\n",
    "            result_dct[key] = segm_dict[key]/(d+mu) + mu/(d+mu)*corpus_dict[key]\n",
    "        else:\n",
    "            result_dct[key] = mu/(d+mu)*corpus_dict[key]\n",
    "    return result_dct"
   ]
  },
  {
   "cell_type": "code",
   "execution_count": 223,
   "metadata": {
    "collapsed": true
   },
   "outputs": [],
   "source": [
    "# Classification functions. Take pre-arranged test array, make predictions\n",
    "\n",
    "import math as m\n",
    "from nltk.stem.snowball import SnowballStemmer\n",
    "def calculate_ML(string, dct, corp_dct, prb_segment):\n",
    "    stemmer = SnowballStemmer('english')\n",
    "    month_expr = re.compile(r\"(jan(uary|\\.|)|feb(ruary|\\.|)|mar(ch|\\.|)|apr(il|\\.|)|may(\\.|)|jun(e|\\.|)|jul(y|\\.|)|aug(ust|\\.|)|sep(tember|\\.|)|oct(ober|\\.|)|nov(ember|\\.|)|dec(ember|\\.|))\")\n",
    "    year_expr = re.compile(r\"((19|20)\\d\\d|'?\\d\\d)\")\n",
    "    num = 1.0\n",
    "    den = 1.0\n",
    "    result = .0\n",
    "    for word in string.split():\n",
    "        wrd = word.casefold()\n",
    "        if re.fullmatch(year_expr, wrd):\n",
    "            wrd = '!year'\n",
    "        elif re.fullmatch(month_expr, wrd):\n",
    "            wrd = '!month'\n",
    "        else:\n",
    "             wrd = stemmer.stem(wrd)\n",
    "        if wrd in dct:                  # and wrd in corp_dct:\n",
    "            num *= dct[wrd]\n",
    "            den *= corp_dct[wrd]\n",
    "            result += m.log2(prb_segment*num/den)\n",
    "        else:\n",
    "            result += m.log2(1e-300)\n",
    "    return result\n",
    "\n",
    "def calculate_KL_risk(query_model, doc_model):\n",
    "    result = 0\n",
    "    for key in query_model.keys():\n",
    "        log_ = 0\n",
    "        if key in doc_model:\n",
    "            log_ = m.log2(query_model[key]/doc_model[key])\n",
    "        else:\n",
    "            log_ = m.log2(1e+300)\n",
    "        result += query_model[key]*log_\n",
    "    return result\n",
    "\n",
    "    \n",
    "def test_algorithm(test_set, dictionaries, corpus_dict, smoothing=False, smoothing_method=None, smoothing_param=1):\n",
    "    local_test_set = test_set.copy()\n",
    "    #likelihoods = np.zeros(len(dictionaries))\n",
    "    prb_corpus = calc_probs(corpus_dict)\n",
    "    i=0\n",
    "    for a_dict in dictionaries:\n",
    "        prb_segment = sumDictValues(a_dict) / sumDictValues(corpus_dict)  # proportion of a segment in the corpus (according to ML formula)\n",
    "#         print('Segment ' + repr(i+1) + ' portion in the dictionary ' + repr(prb_segment))\n",
    "        if (smoothing == True):\n",
    "            prb_dict = smoothing_method(a_dict, prb_corpus, smoothing_param)\n",
    "        else:\n",
    "            prb_dict = calc_probs(a_dict)\n",
    "        for line in local_test_set:\n",
    "            likelihood = calculate_ML(line[0], prb_dict, prb_corpus, prb_segment)\n",
    "            if likelihood > np.float(line[3]):\n",
    "                line[3] = likelihood\n",
    "                line[2] = i+1\n",
    "        i+=1\n",
    "    F1_score_array = np.array([])\n",
    "    F1_score_array = np.append(F1_score_array, quality_assessment(local_test_set[:,1], local_test_set[:,2], 1)[2])\n",
    "    F1_score_array = np.append(F1_score_array, quality_assessment(local_test_set[:,1], local_test_set[:,2], 2)[2])\n",
    "    F1_score_array = np.append(F1_score_array, quality_assessment(local_test_set[:,1], local_test_set[:,2], 3)[2])\n",
    "    f_one_score = np.mean(F1_score_array)\n",
    "    return f_one_score, local_test_set\n",
    "\n",
    "def test_algorithm_w_KL(test_set_KL, dictionaries, corpus_dict, smoothing=False, smoothing_method=None, smoothing_param=1):\n",
    "    local_test_set = test_set_KL.copy()\n",
    "    prb_corpus = calc_probs(corpus_dict)\n",
    "    i=0\n",
    "    for a_dict in dictionaries:\n",
    "        if (smoothing == True):\n",
    "            prb_dict = smoothing_method(a_dict, prb_corpus, smoothing_param)\n",
    "        else:\n",
    "            prb_dict = calc_probs(a_dict)\n",
    "        for line in local_test_set:\n",
    "            risk = calculate_KL_risk(line[0], prb_dict)\n",
    "            if risk < np.float(abs(line[3])):\n",
    "                line[3] = risk\n",
    "                line[2] = i+1\n",
    "        i+=1\n",
    "    F1_score_array = np.array([])\n",
    "    F1_score_array = np.append(F1_score_array, quality_assessment(local_test_set[:,1], local_test_set[:,2], 1)[2])\n",
    "    F1_score_array = np.append(F1_score_array, quality_assessment(local_test_set[:,1], local_test_set[:,2], 2)[2])\n",
    "    F1_score_array = np.append(F1_score_array, quality_assessment(local_test_set[:,1], local_test_set[:,2], 3)[2])\n",
    "    f_one_score = np.mean(F1_score_array)\n",
    "    return f_one_score, local_test_set\n",
    "\n"
   ]
  },
  {
   "cell_type": "code",
   "execution_count": 41,
   "metadata": {
    "collapsed": true
   },
   "outputs": [],
   "source": [
    "#  Extract training set from PDFs\n",
    "train_indicies = extract.extract_words()"
   ]
  },
  {
   "cell_type": "code",
   "execution_count": 42,
   "metadata": {
    "collapsed": true
   },
   "outputs": [],
   "source": [
    "# Read training files as one string\n",
    "smr_content = open('sum_train.txt', 'r').read()\n",
    "xprnc_content = open('exp_train.txt', 'r').read()\n",
    "edct_content = open('edu_train.txt', 'r').read()"
   ]
  },
  {
   "cell_type": "code",
   "execution_count": 44,
   "metadata": {
    "collapsed": true
   },
   "outputs": [],
   "source": [
    "# Put segment from each CV into separate string in an array\n",
    "sum_list = string_list(\"Summary\", smr_content)\n",
    "xprnc_list = string_list(\"Experience\", xprnc_content)\n",
    "edctn_list = string_list(\"Education\", edct_content)"
   ]
  },
  {
   "cell_type": "code",
   "execution_count": 46,
   "metadata": {
    "collapsed": true
   },
   "outputs": [],
   "source": [
    "# Extract vocabulary specific for a segment\n",
    "sum_dct = create_dictionary(sum_list)\n",
    "xprnc_dct = create_dictionary(xprnc_list)\n",
    "edctn_dct = create_dictionary(edctn_list)"
   ]
  },
  {
   "cell_type": "code",
   "execution_count": 50,
   "metadata": {
    "collapsed": true
   },
   "outputs": [],
   "source": [
    "# Uniting into corpus dictionary\n",
    "new_dict = concat_dct(xprnc_dct, edctn_dct)\n",
    "whole_dict = concat_dct(new_dict, sum_dct)"
   ]
  },
  {
   "cell_type": "code",
   "execution_count": 51,
   "metadata": {
    "collapsed": true
   },
   "outputs": [],
   "source": [
    "# Calculating term probabilities\n",
    "sum_prb = calc_probs(sum_dct)\n",
    "xprnc_prb = calc_probs(xprnc_dct)\n",
    "edctn_prb = calc_probs(edctn_dct)\n",
    "whole_dict_prb = calc_probs(whole_dict)"
   ]
  },
  {
   "cell_type": "code",
   "execution_count": 52,
   "metadata": {
    "collapsed": true
   },
   "outputs": [],
   "source": [
    "# Test data generation\n",
    "smr_test_content = open('sum_test.txt', 'r').read()\n",
    "exp_test_content = open('exp_test.txt', 'r').read()\n",
    "edu_test_content = open('edu_test.txt', 'r').read()"
   ]
  },
  {
   "cell_type": "code",
   "execution_count": 132,
   "metadata": {
    "collapsed": true
   },
   "outputs": [],
   "source": [
    "# construct test data sets from the same data for verification of different methods\n",
    "test_set = construct_marked_set([smr_test_content, edu_test_content, exp_test_content])\n",
    "test_set_KL = construct_marked_set_KL([smr_test_content, edu_test_content, exp_test_content])"
   ]
  },
  {
   "cell_type": "markdown",
   "metadata": {},
   "source": [
    "Comparison of classification results of ML and KL methods"
   ]
  },
  {
   "cell_type": "code",
   "execution_count": 157,
   "metadata": {},
   "outputs": [
    {
     "name": "stdout",
     "output_type": "stream",
     "text": [
      "0.726206887497\n"
     ]
    }
   ],
   "source": [
    "f1_score, result_test_set_ML = test_algorithm(test_set, [sum_dct, edctn_dct, xprnc_dct], whole_dict)\n",
    "print(f1_score)"
   ]
  },
  {
   "cell_type": "code",
   "execution_count": 238,
   "metadata": {},
   "outputs": [
    {
     "name": "stdout",
     "output_type": "stream",
     "text": [
      "0.731116584565\n"
     ]
    }
   ],
   "source": [
    "f1_score, result_test_set_KL = test_algorithm_w_KL(test_set_KL, [sum_dct, edctn_dct, xprnc_dct], whole_dict)\n",
    "print(f1_score)"
   ]
  },
  {
   "cell_type": "code",
   "execution_count": 243,
   "metadata": {},
   "outputs": [
    {
     "data": {
      "text/plain": [
       "129"
      ]
     },
     "execution_count": 243,
     "metadata": {},
     "output_type": "execute_result"
    }
   ],
   "source": [
    "(result_test_set_KL[:,2]==3).sum()"
   ]
  },
  {
   "cell_type": "code",
   "execution_count": 181,
   "metadata": {},
   "outputs": [
    {
     "name": "stdout",
     "output_type": "stream",
     "text": [
      "[[15  2 27]\n",
      " [ 0 30  6]\n",
      " [ 3  2 98]]\n"
     ]
    }
   ],
   "source": [
    "print(confusion_matrix(result_test_set_ML[:,1], result_test_set_ML[:,2]))"
   ]
  },
  {
   "cell_type": "markdown",
   "metadata": {},
   "source": [
    "# Probability smoothing"
   ]
  },
  {
   "cell_type": "code",
   "execution_count": 192,
   "metadata": {},
   "outputs": [],
   "source": [
    "def analyze_lmbd(test_set, dictionaries, corpus_dict, method='ML'):\n",
    "    lmbd_arr = np.linspace(0,1,10)\n",
    "    lmbd_arr[0] = 1e-10\n",
    "    f_score_arr = np.zeros(lmbd_arr.size)\n",
    "    for i in range(len(lmbd_arr)):\n",
    "        if method == 'ML':\n",
    "            f_score_arr[i], result_test_set = test_algorithm(test_set, dictionaries, corpus_dict, smoothing=True, smoothing_method=jelin_merc_smoothing, smoothing_param=lmbd_arr[i])\n",
    "        else:\n",
    "            f_score_arr[i], result_test_set = test_algorithm_w_KL(test_set, dictionaries, corpus_dict, smoothing=True, smoothing_method=jelin_merc_smoothing, smoothing_param=lmbd_arr[i])        \n",
    "#     print('F1-score array: {}'.format(f_score_arr))\n",
    "    print('Max F-score={} at lambda = {}'.format(np.max(f_score_arr), lmbd_arr[np.argmax(f_score_arr)]))\n",
    "    return lmbd_arr, f_score_arr"
   ]
  },
  {
   "cell_type": "code",
   "execution_count": 205,
   "metadata": {
    "collapsed": true
   },
   "outputs": [],
   "source": [
    "classification_meth = 'ML'\n",
    "if classification_meth == 'ML':\n",
    "    test_set_smth = construct_marked_set([smr_test_content, edu_test_content, exp_test_content])\n",
    "else:\n",
    "    test_set_smth = construct_marked_set_KL([smr_test_content, edu_test_content, exp_test_content])"
   ]
  },
  {
   "cell_type": "code",
   "execution_count": 206,
   "metadata": {},
   "outputs": [
    {
     "name": "stdout",
     "output_type": "stream",
     "text": [
      "Max F-score=0.7656866545968727 at lambda = 0.6666666666666666\n"
     ]
    },
    {
     "data": {
      "image/png": "[encoded data removed]",
      "text/plain": [
       "<matplotlib.figure.Figure at 0x7f0a4d469b38>"
      ]
     },
     "metadata": {},
     "output_type": "display_data"
    }
   ],
   "source": [
    "lambdas, f_scores = analyze_lmbd(test_set_smth, [sum_dct, edctn_dct, xprnc_dct], whole_dict, classification_meth)\n",
    "\n",
    "fig = plt.figure(figsize=[15,10])\n",
    "plt.plot(lambdas, f_scores)\n",
    "plt.grid()\n",
    "plt.show()"
   ]
  },
  {
   "cell_type": "code",
   "execution_count": 203,
   "metadata": {
    "collapsed": true
   },
   "outputs": [],
   "source": [
    "def analyze_mu(test_set, dictionaries, corpus_dict, method='ML'):\n",
    "    mu_arr = np.geomspace(.1,100000,num=100)\n",
    "    f_score_arr = np.zeros(mu_arr.size)\n",
    "    for i in range(len(mu_arr)):\n",
    "        if method == 'ML':\n",
    "            f_score_arr[i], result_test_set = test_algorithm(test_set, dictionaries, corpus_dict, smoothing=True, smoothing_method=dirichlet_smoothing, smoothing_param=mu_arr[i])\n",
    "        else:\n",
    "            f_score_arr[i], result_test_set = test_algorithm_w_KL(test_set, dictionaries, corpus_dict, smoothing=True, smoothing_method=dirichlet_smoothing, smoothing_param=mu_arr[i])        \n",
    "#     print('F1-score array: {}'.format(f_score_arr))\n",
    "    print('Max F-score={} at u={}'.format(np.max(f_score_arr), mu_arr[np.argmax(f_score_arr)]))\n",
    "    return mu_arr, f_score_arr"
   ]
  },
  {
   "cell_type": "code",
   "execution_count": 207,
   "metadata": {},
   "outputs": [
    {
     "name": "stdout",
     "output_type": "stream",
     "text": [
      "Max F-score=0.7893563854933477 at u=123.28467394420659\n"
     ]
    },
    {
     "data": {
      "image/png": "[encoded data removed]",
      "text/plain": [
       "<matplotlib.figure.Figure at 0x7f0a4d3ee9b0>"
      ]
     },
     "metadata": {},
     "output_type": "display_data"
    }
   ],
   "source": [
    "mus, f_scores = analyze_mu(test_set_smth, [sum_dct, edctn_dct, xprnc_dct], whole_dict)\n",
    "\n",
    "fig = plt.figure(figsize=[15,10])\n",
    "plt.semilogx()\n",
    "plt.plot(mus, f_scores)\n",
    "plt.grid()\n",
    "plt.show()"
   ]
  },
  {
   "cell_type": "markdown",
   "metadata": {},
   "source": [
    "## Mu  estimation"
   ]
  },
  {
   "cell_type": "code",
   "execution_count": 24,
   "metadata": {
    "collapsed": true
   },
   "outputs": [],
   "source": [
    "def loo_smoothing(segm_cnt_dict, corpus_prb_dict, mu):\n",
    "    result_dct = dict()\n",
    "    #d = len(segm_dict.keys())\n",
    "    d = sumDictValues(segm_cnt_dict) - 1\n",
    "    for key in corpus_prb_dict.keys():\n",
    "        if key in segm_cnt_dict:\n",
    "            result_dct[key] = segm_cnt_dict[key]*np.log2((segm_cnt_dict[key] - 1 + mu*corpus_prb_dict[key])/(d-1+mu))\n",
    "        else:\n",
    "            result_dct[key] = 0\n",
    "    return result_dct"
   ]
  },
  {
   "cell_type": "code",
   "execution_count": 25,
   "metadata": {},
   "outputs": [
    {
     "name": "stdout",
     "output_type": "stream",
     "text": [
      "171916.903012\n"
     ]
    }
   ],
   "source": [
    "def profit_function(u_param, doc_cnt_dcts, corp_prb_dct):\n",
    "    profit = 0\n",
    "    for dct in doc_cnt_dcts:\n",
    "#         print(len(loo_smoothing(dct, corp_prb_dct, u_param)))\n",
    "        profit += sumDictValues(loo_smoothing(dct, corp_prb_dct, u_param))\n",
    "    return -profit\n",
    "    \n",
    "\n",
    "print(profit_function(55000, [sum_dct, edctn_dct, xprnc_dct], whole_dict_prb))\n",
    "\n",
    "pfvec = np.vectorize(profit_function, excluded=[1,2])"
   ]
  },
  {
   "cell_type": "code",
   "execution_count": 208,
   "metadata": {},
   "outputs": [
    {
     "data": {
      "image/png": "[encoded data removed]",
      "text/plain": [
       "<matplotlib.figure.Figure at 0x7f0a4f452278>"
      ]
     },
     "metadata": {},
     "output_type": "display_data"
    }
   ],
   "source": [
    "mu_ary = np.geomspace(.1, 1000000, num=100)\n",
    "prf_ary = pfvec(mu_ary, [sum_dct, edctn_dct, xprnc_dct], whole_dict_prb)\n",
    "fig, ax = plt.subplots(figsize=[8,5.5])\n",
    "plt.semilogx()\n",
    "plt.plot(mu_ary, prf_ary)\n",
    "plt.grid()\n",
    "plt.show()"
   ]
  },
  {
   "cell_type": "code",
   "execution_count": 27,
   "metadata": {
    "collapsed": true
   },
   "outputs": [],
   "source": [
    "init_mu = np.zeros(1)+1e-30\n",
    "mu_cnvg = optimize.minimize(profit_function, init_mu, args=([sum_dct, edctn_dct, xprnc_dct], whole_dict_prb), method='Nelder-Mead', options={'maxiter':5000}, tol=1e-30)"
   ]
  },
  {
   "cell_type": "code",
   "execution_count": 28,
   "metadata": {},
   "outputs": [
    {
     "name": "stdout",
     "output_type": "stream",
     "text": [
      " final_simplex: (array([[ 15872.44329757],\n",
      "       [ 15872.44329757]]), array([ 171816.36760442,  171816.36760442]))\n",
      "           fun: 171816.36760441668\n",
      "       message: 'Optimization terminated successfully.'\n",
      "          nfev: 372\n",
      "           nit: 174\n",
      "        status: 0\n",
      "       success: True\n",
      "             x: array([ 15872.44329757])\n"
     ]
    }
   ],
   "source": [
    "print(mu_cnvg)"
   ]
  },
  {
   "cell_type": "code",
   "execution_count": 29,
   "metadata": {},
   "outputs": [
    {
     "data": {
      "text/plain": [
       "0.73664896305549654"
      ]
     },
     "execution_count": 29,
     "metadata": {},
     "output_type": "execute_result"
    }
   ],
   "source": [
    "#leave-one-out\n",
    "test_algorithm_w_smoothing(test_set, [sum_dct, edctn_dct, xprnc_dct], whole_dict, dirichlet_smoothing, mu_cnvg.x)"
   ]
  },
  {
   "cell_type": "code",
   "execution_count": 30,
   "metadata": {},
   "outputs": [
    {
     "data": {
      "text/plain": [
       "0.74959276727521651"
      ]
     },
     "execution_count": 30,
     "metadata": {},
     "output_type": "execute_result"
    }
   ],
   "source": [
    "#empirical evaluation\n",
    "test_algorithm_w_smoothing(test_set, [sum_dct, edctn_dct, xprnc_dct], whole_dict, dirichlet_smoothing, 10723)"
   ]
  },
  {
   "cell_type": "markdown",
   "metadata": {},
   "source": [
    "## Lambda  estimation"
   ]
  },
  {
   "cell_type": "code",
   "execution_count": 117,
   "metadata": {
    "collapsed": true
   },
   "outputs": [],
   "source": [
    "def profit_func_lambda(lmbd_param, pi_param_ary, doc_prb_dcs, corp_prb_dct):\n",
    "    result = .0\n",
    "    key_limit = 100\n",
    "    for i in range(pi_param_ary.size):\n",
    "        sub_rslt = 1.0\n",
    "        j = 0\n",
    "        for key in corp_prb_dct.keys():\n",
    "#             print(key)\n",
    "            j+=1\n",
    "            if key in doc_prb_dcs:\n",
    "#                 print(doc_prb_dcs[i][key])\n",
    "                sub_rslt *= (1-lmbd_param)*doc_prb_dcs[i][key] + lmbd_param*corp_prb_dct[key]\n",
    "            else:\n",
    "                sub_rslt *= lmbd_param * corp_prb_dct[key]\n",
    "            if j>key_limit:\n",
    "                break\n",
    "#         print('pi={}'.format(pi_param_ary[i]))\n",
    "        result += pi_param_ary[i] * sub_rslt\n",
    "    return result\n",
    "\n",
    "init_pi = np.ones(3)"
   ]
  },
  {
   "cell_type": "code",
   "execution_count": 118,
   "metadata": {},
   "outputs": [
    {
     "name": "stdout",
     "output_type": "stream",
     "text": [
      "0.0\n"
     ]
    }
   ],
   "source": [
    "print(profit_func_lambda(.5, init_pi, [sum_prb, edctn_prb, xprnc_prb], whole_dict_prb))"
   ]
  },
  {
   "cell_type": "code",
   "execution_count": 81,
   "metadata": {},
   "outputs": [
    {
     "data": {
      "text/plain": [
       "0.010533469249065579"
      ]
     },
     "execution_count": 81,
     "metadata": {},
     "output_type": "execute_result"
    }
   ],
   "source": [
    "sum_prb['summari']"
   ]
  },
  {
   "cell_type": "code",
   "execution_count": 84,
   "metadata": {},
   "outputs": [
    {
     "data": {
      "text/plain": [
       "0.006177015104705743"
      ]
     },
     "execution_count": 84,
     "metadata": {},
     "output_type": "execute_result"
    }
   ],
   "source": [
    "(1-.5)*sum_prb['summari'] + .5*whole_dict_prb['summari']"
   ]
  },
  {
   "cell_type": "markdown",
   "metadata": {},
   "source": [
    "# Testing on Other folder"
   ]
  },
  {
   "cell_type": "code",
   "execution_count": 209,
   "metadata": {},
   "outputs": [
    {
     "name": "stderr",
     "output_type": "stream",
     "text": [
      "PdfReadWarning: Xref table not zero-indexed. ID numbers for objects will be corrected. [pdf.py:1736]\n"
     ]
    }
   ],
   "source": [
    "# Extract test set from 'other' folder\n",
    "file_number_in_folder=6\n",
    "extract.extract_other_pdfs(file_number_in_folder)"
   ]
  },
  {
   "cell_type": "code",
   "execution_count": 210,
   "metadata": {
    "collapsed": true
   },
   "outputs": [],
   "source": [
    "# Test data generation\n",
    "other_test_content = open('test_other.txt', 'r').read()"
   ]
  },
  {
   "cell_type": "code",
   "execution_count": 211,
   "metadata": {},
   "outputs": [
    {
     "data": {
      "text/plain": [
       "'Stefan Petranek  78 Vermont Street Rochester, NY 14609     spetrane@yahoo\\n.com     (585) 256 0296   '"
      ]
     },
     "execution_count": 211,
     "metadata": {},
     "output_type": "execute_result"
    }
   ],
   "source": [
    "# Head of selected CV\n",
    "other_test_content[:100]"
   ]
  },
  {
   "cell_type": "code",
   "execution_count": 212,
   "metadata": {
    "collapsed": true
   },
   "outputs": [],
   "source": [
    "test_set_other = construct_marked_set([other_test_content])"
   ]
  },
  {
   "cell_type": "code",
   "execution_count": 225,
   "metadata": {
    "collapsed": true
   },
   "outputs": [],
   "source": [
    "test_set_other_KL = construct_marked_set_KL([other_test_content])"
   ]
  },
  {
   "cell_type": "code",
   "execution_count": 258,
   "metadata": {},
   "outputs": [
    {
     "name": "stderr",
     "output_type": "stream",
     "text": [
      "RuntimeWarning: invalid value encountered in long_scalars [ipykernel_launcher.py:9]\n"
     ]
    }
   ],
   "source": [
    "dummy_f1, result_other_set = test_algorithm(test_set_other, [sum_dct, edctn_dct, xprnc_dct], whole_dict, smoothing=True, smoothing_method=dirichlet_smoothing, smoothing_param=123)"
   ]
  },
  {
   "cell_type": "code",
   "execution_count": 259,
   "metadata": {},
   "outputs": [
    {
     "name": "stderr",
     "output_type": "stream",
     "text": [
      "RuntimeWarning: invalid value encountered in long_scalars [ipykernel_launcher.py:9]\n"
     ]
    }
   ],
   "source": [
    "dummy_f1, result_other_set_KL = test_algorithm_w_KL(test_set_other_KL, [sum_dct, edctn_dct, xprnc_dct], whole_dict, smoothing=True, smoothing_method=dirichlet_smoothing, smoothing_param=123)"
   ]
  },
  {
   "cell_type": "code",
   "execution_count": 255,
   "metadata": {
    "collapsed": true
   },
   "outputs": [],
   "source": [
    "def print_recognition_results(test_set):\n",
    "    category=''\n",
    "    for line in test_set:\n",
    "        if line[2] == '1':\n",
    "            category = 'Summary'\n",
    "        elif line[2] == '2':\n",
    "            category = 'Education'\n",
    "        else:\n",
    "            category = 'Experience'\n",
    "        print(line[0][:50] + '...\\t\\t' + category)\n",
    "        \n",
    "\n",
    "def print_recognition_results_KL(test_set, ts_KL):\n",
    "    category=''\n",
    "    i=0\n",
    "    for line in test_set:\n",
    "        if line[2] == 1:\n",
    "            category = 'Summary'\n",
    "        elif line[2] == 2:\n",
    "            category = 'Education'\n",
    "        else:\n",
    "            category = 'Experience'\n",
    "        print(ts_KL[i][0][:50] + '...\\t\\t' + category)\n",
    "        i += 1\n"
   ]
  },
  {
   "cell_type": "markdown",
   "metadata": {},
   "source": [
    "### 'Other' CVs classification with K"
   ]
  },
  {
   "cell_type": "code",
   "execution_count": 260,
   "metadata": {},
   "outputs": [
    {
     "name": "stdout",
     "output_type": "stream",
     "text": [
      "Stefan Petranek  78 Vermont Street Rochester  NY 1...\t\tExperience\n",
      "  EDUCATION   Rochester Institute of Technology   ...\t\tEducation\n",
      "Areas of interest   photography  video  and instal...\t\tExperience\n",
      "  Bowdoin College   Brunswick  ME  A B  Biology  m...\t\tEducation\n",
      " with  Honors  in Biology  Phi Beta Kappa Society ...\t\tEducation\n",
      "Study abroad coursework at Universidad Austral de ...\t\tEducation\n",
      " Tweaking the Periodic Table  Reflections on Scien...\t\tEducation\n",
      "  Artist Talk    Panel discussion for  Naturally  ...\t\tExperience\n",
      "  Draft Magazine   Page 26  Issue 3  Independent S...\t\tEducation\n",
      "  Contributing photographer  Published by  Rochest...\t\tEducation\n",
      "  SPE Mid Atlantic Regional Conference  George Mad...\t\tEducation\n",
      "  Graduate Student Scholarship   Society of Photog...\t\tEducation\n",
      "  North American Nature Photography Association In...\t\tExperience\n",
      "  Bowdoin College  2004   SELECTED EXHIBITIONS    ...\t\tExperience\n",
      "  Video work  Spring  selected by curator Brenda L...\t\tExperience\n",
      "  RIT Faculty Show   Video Projection  Rochester S...\t\tEducation\n",
      "  Slide Slam  08   Juried one night exhibition sch...\t\tExperience\n",
      "  2007    Naturally   Juried  Four person exhibit ...\t\tExperience\n",
      "Gallery  University of Rochester  Rochester  NY   ...\t\tEducation\n",
      "Community Darkroom  Genesee Center for the Arts  R...\t\tEducation\n",
      " com      585  256 0296     www stefanpetranek com...\t\tEducation\n",
      " Master of Fine Arts in Imaging Arts  2006   Areas...\t\tSummary\n",
      " Fulbright Full Grant   Valdivia  Chile   Marine e...\t\tEducation\n",
      "  Bowdoin College   Brunswick  ME  A B  Biology  m...\t\tEducation\n",
      " with  Honors  in Biology  Phi Beta Kappa Society ...\t\tEducation\n",
      "Study abroad coursework at Universidad Austral de ...\t\tEducation\n",
      " Tweaking the Periodic Table  Reflections on Scien...\t\tEducation\n",
      "  Artist Talk    Panel discussion for  Naturally  ...\t\tExperience\n",
      "  Draft Magazine   Page 26  Issue 3  Independent S...\t\tEducation\n",
      "  Contributing photographer  Published by  Rochest...\t\tEducation\n",
      "  SPE Mid Atlantic Regional Conference  George Mad...\t\tEducation\n",
      "  Graduate Student Scholarship   Society of Photog...\t\tEducation\n",
      "  North American Nature Photography Association In...\t\tExperience\n",
      "  Bowdoin College  2004   SELECTED EXHIBITIONS    ...\t\tExperience\n",
      "  Video work  Spring  selected by curator Brenda L...\t\tExperience\n",
      "  RIT Faculty Show   Video Projection  Rochester S...\t\tEducation\n",
      "  Slide Slam  08   Juried one night exhibition sch...\t\tExperience\n",
      "  2007    Naturally   Juried  Four person exhibit ...\t\tExperience\n",
      "Gallery  University of Rochester  Rochester  NY   ...\t\tEducation\n",
      "Community Darkroom  Genesee Center for the Arts  R...\t\tEducation\n",
      "Page 2 of 2     Toronto Urban Film Festival   Vide...\t\tExperience\n",
      "locations including TV monitors in the mass transi...\t\tExperience\n",
      "     PingYao International Photo Festival    Book ...\t\tExperience\n",
      "   RIT Faculty Show   A selection of two handmade ...\t\tExperience\n",
      "  CONTACT Portfolio Reviews Exhibition   A selecti...\t\tExperience\n",
      "  2006         Formulations   Master of Fine Arts ...\t\tEducation\n",
      "Technology  Rochester  NY     RIT Student Honors S...\t\tEducation\n",
      "Arts and Sciences  Artwork purchased by Rochester ...\t\tEducation\n",
      "   Door7 Spring Exhibition   Invitational group sh...\t\tExperience\n",
      "Rochester  NY     Trans fix   Invitational show of...\t\tExperience\n",
      "Baldwin Wallace College  Berea  Ohio      2005  Gr...\t\tExperience\n",
      "Program  SPAS Gallery  Rochester Institute of Tech...\t\tEducation\n",
      "  Community Darkroom Gallery  Genesee Center for t...\t\tExperience\n",
      "  Juried by Darsie  Alexander  curator of prints  ...\t\tExperience\n",
      "Loveladies  NJ      RIT Student Honors Show   Show...\t\tEducation\n",
      "Sciences  SPAS Gallery  Rochester Institute of Tec...\t\tEducation\n",
      "  An invitational art exhibit showcasing recent wo...\t\tEducation\n",
      "Technology  Rochester  NY      Breaking The Ice   ...\t\tEducation\n",
      "photography   video     Hartell Gallery  Cornell U...\t\tEducation\n",
      " Spark Contemporary Art Space  Syracuse  NY   Mar ...\t\tExperience\n",
      "Exhibiting Artist  Art Space Gallery  New Haven  C...\t\tExperience\n",
      "Haven  New Haven  CT      The Edge  a Fringe Festi...\t\tExperience\n",
      "Art and Ideas  Small Space Gallery  New Haven  CT ...\t\tExperience\n",
      "   2003  Photos on the Edge   A juried exhibition ...\t\tExperience\n",
      "Gallery  Yale School of Art  New Haven  CT     200...\t\tEducation\n",
      "    ...\t\tSummary\n"
     ]
    }
   ],
   "source": [
    "print_recognition_results_KL(result_other_set_KL, test_set_other)"
   ]
  },
  {
   "cell_type": "code",
   "execution_count": 261,
   "metadata": {},
   "outputs": [
    {
     "name": "stdout",
     "output_type": "stream",
     "text": [
      "Stefan Petranek  78 Vermont Street Rochester  NY 1...\t\tEducation\n",
      "  EDUCATION   Rochester Institute of Technology   ...\t\tEducation\n",
      "Areas of interest   photography  video  and instal...\t\tExperience\n",
      "  Bowdoin College   Brunswick  ME  A B  Biology  m...\t\tEducation\n",
      " with  Honors  in Biology  Phi Beta Kappa Society ...\t\tEducation\n",
      "Study abroad coursework at Universidad Austral de ...\t\tEducation\n",
      " Tweaking the Periodic Table  Reflections on Scien...\t\tEducation\n",
      "  Artist Talk    Panel discussion for  Naturally  ...\t\tExperience\n",
      "  Draft Magazine   Page 26  Issue 3  Independent S...\t\tEducation\n",
      "  Contributing photographer  Published by  Rochest...\t\tEducation\n",
      "  SPE Mid Atlantic Regional Conference  George Mad...\t\tEducation\n",
      "  Graduate Student Scholarship   Society of Photog...\t\tEducation\n",
      "  North American Nature Photography Association In...\t\tExperience\n",
      "  Bowdoin College  2004   SELECTED EXHIBITIONS    ...\t\tEducation\n",
      "  Video work  Spring  selected by curator Brenda L...\t\tExperience\n",
      "  RIT Faculty Show   Video Projection  Rochester S...\t\tEducation\n",
      "  Slide Slam  08   Juried one night exhibition sch...\t\tExperience\n",
      "  2007    Naturally   Juried  Four person exhibit ...\t\tExperience\n",
      "Gallery  University of Rochester  Rochester  NY   ...\t\tEducation\n",
      "Community Darkroom  Genesee Center for the Arts  R...\t\tExperience\n",
      " com      585  256 0296     www stefanpetranek com...\t\tEducation\n",
      " Master of Fine Arts in Imaging Arts  2006   Areas...\t\tEducation\n",
      " Fulbright Full Grant   Valdivia  Chile   Marine e...\t\tExperience\n",
      "  Bowdoin College   Brunswick  ME  A B  Biology  m...\t\tEducation\n",
      " with  Honors  in Biology  Phi Beta Kappa Society ...\t\tEducation\n",
      "Study abroad coursework at Universidad Austral de ...\t\tEducation\n",
      " Tweaking the Periodic Table  Reflections on Scien...\t\tEducation\n",
      "  Artist Talk    Panel discussion for  Naturally  ...\t\tExperience\n",
      "  Draft Magazine   Page 26  Issue 3  Independent S...\t\tEducation\n",
      "  Contributing photographer  Published by  Rochest...\t\tEducation\n",
      "  SPE Mid Atlantic Regional Conference  George Mad...\t\tEducation\n",
      "  Graduate Student Scholarship   Society of Photog...\t\tEducation\n",
      "  North American Nature Photography Association In...\t\tExperience\n",
      "  Bowdoin College  2004   SELECTED EXHIBITIONS    ...\t\tEducation\n",
      "  Video work  Spring  selected by curator Brenda L...\t\tExperience\n",
      "  RIT Faculty Show   Video Projection  Rochester S...\t\tEducation\n",
      "  Slide Slam  08   Juried one night exhibition sch...\t\tExperience\n",
      "  2007    Naturally   Juried  Four person exhibit ...\t\tExperience\n",
      "Gallery  University of Rochester  Rochester  NY   ...\t\tEducation\n",
      "Community Darkroom  Genesee Center for the Arts  R...\t\tExperience\n",
      "Page 2 of 2     Toronto Urban Film Festival   Vide...\t\tExperience\n",
      "locations including TV monitors in the mass transi...\t\tExperience\n",
      "     PingYao International Photo Festival    Book ...\t\tExperience\n",
      "   RIT Faculty Show   A selection of two handmade ...\t\tExperience\n",
      "  CONTACT Portfolio Reviews Exhibition   A selecti...\t\tExperience\n",
      "  2006         Formulations   Master of Fine Arts ...\t\tEducation\n",
      "Technology  Rochester  NY     RIT Student Honors S...\t\tEducation\n",
      "Arts and Sciences  Artwork purchased by Rochester ...\t\tEducation\n",
      "   Door7 Spring Exhibition   Invitational group sh...\t\tExperience\n",
      "Rochester  NY     Trans fix   Invitational show of...\t\tExperience\n",
      "Baldwin Wallace College  Berea  Ohio      2005  Gr...\t\tEducation\n",
      "Program  SPAS Gallery  Rochester Institute of Tech...\t\tEducation\n",
      "  Community Darkroom Gallery  Genesee Center for t...\t\tExperience\n",
      "  Juried by Darsie  Alexander  curator of prints  ...\t\tExperience\n",
      "Loveladies  NJ      RIT Student Honors Show   Show...\t\tEducation\n",
      "Sciences  SPAS Gallery  Rochester Institute of Tec...\t\tEducation\n",
      "  An invitational art exhibit showcasing recent wo...\t\tExperience\n",
      "Technology  Rochester  NY      Breaking The Ice   ...\t\tExperience\n",
      "photography   video     Hartell Gallery  Cornell U...\t\tEducation\n",
      " Spark Contemporary Art Space  Syracuse  NY   Mar ...\t\tExperience\n",
      "Exhibiting Artist  Art Space Gallery  New Haven  C...\t\tExperience\n",
      "Haven  New Haven  CT      The Edge  a Fringe Festi...\t\tExperience\n",
      "Art and Ideas  Small Space Gallery  New Haven  CT ...\t\tExperience\n",
      "   2003  Photos on the Edge   A juried exhibition ...\t\tExperience\n",
      "Gallery  Yale School of Art  New Haven  CT     200...\t\tEducation\n",
      "    ...\t\tSummary\n"
     ]
    }
   ],
   "source": [
    "print_recognition_results(result_other_set)"
   ]
  },
  {
   "cell_type": "code",
   "execution_count": null,
   "metadata": {
    "collapsed": true
   },
   "outputs": [],
   "source": []
  }
 ],
 "metadata": {
  "kernelspec": {
   "display_name": "Python 3",
   "language": "python",
   "name": "python3"
  },
  "language_info": {
   "codemirror_mode": {
    "name": "ipython",
    "version": 3
   },
   "file_extension": ".py",
   "mimetype": "text/x-python",
   "name": "python",
   "nbconvert_exporter": "python",
   "pygments_lexer": "ipython3",
   "version": "3.6.1"
  }
 },
 "nbformat": 4,
 "nbformat_minor": 2
}
